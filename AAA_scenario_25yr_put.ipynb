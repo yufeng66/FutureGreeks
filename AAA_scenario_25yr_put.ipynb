{
  "nbformat": 4,
  "nbformat_minor": 0,
  "metadata": {
    "colab": {
      "name": "AAA scenario 25yr put.ipynb",
      "provenance": [],
      "collapsed_sections": [],
      "include_colab_link": true
    },
    "kernelspec": {
      "name": "python3",
      "display_name": "Python 3"
    },
    "accelerator": "GPU"
  },
  "cells": [
    {
      "cell_type": "markdown",
      "metadata": {
        "id": "view-in-github",
        "colab_type": "text"
      },
      "source": [
        "<a href=\"https://colab.research.google.com/github/yufeng66/FutureGreeks/blob/master/AAA_scenario_25yr_put.ipynb\" target=\"_parent\"><img src=\"https://colab.research.google.com/assets/colab-badge.svg\" alt=\"Open In Colab\"/></a>"
      ]
    },
    {
      "cell_type": "code",
      "metadata": {
        "id": "hzjxO_CHnydR",
        "colab_type": "code",
        "outputId": "a7d01000-51db-46b7-875b-6dbe84a0fb75",
        "colab": {
          "base_uri": "https://localhost:8080/",
          "height": 302
        }
      },
      "source": [
        "!nvidia-smi"
      ],
      "execution_count": 0,
      "outputs": [
        {
          "output_type": "stream",
          "text": [
            "Thu Oct  3 20:14:51 2019       \n",
            "+-----------------------------------------------------------------------------+\n",
            "| NVIDIA-SMI 430.40       Driver Version: 418.67       CUDA Version: 10.1     |\n",
            "|-------------------------------+----------------------+----------------------+\n",
            "| GPU  Name        Persistence-M| Bus-Id        Disp.A | Volatile Uncorr. ECC |\n",
            "| Fan  Temp  Perf  Pwr:Usage/Cap|         Memory-Usage | GPU-Util  Compute M. |\n",
            "|===============================+======================+======================|\n",
            "|   0  Tesla K80           Off  | 00000000:00:04.0 Off |                    0 |\n",
            "| N/A   51C    P8    67W / 149W |      0MiB / 11441MiB |      0%      Default |\n",
            "+-------------------------------+----------------------+----------------------+\n",
            "                                                                               \n",
            "+-----------------------------------------------------------------------------+\n",
            "| Processes:                                                       GPU Memory |\n",
            "|  GPU       PID   Type   Process name                             Usage      |\n",
            "|=============================================================================|\n",
            "|  No running processes found                                                 |\n",
            "+-----------------------------------------------------------------------------+\n"
          ],
          "name": "stdout"
        }
      ]
    },
    {
      "cell_type": "code",
      "metadata": {
        "id": "cNTtAJKloDNR",
        "colab_type": "code",
        "outputId": "2c213001-7ee9-48cb-b5c2-4cf8678e27cd",
        "colab": {
          "base_uri": "https://localhost:8080/",
          "height": 138
        }
      },
      "source": [
        "!pip3 install torch torchvision --upgrade"
      ],
      "execution_count": 0,
      "outputs": [
        {
          "output_type": "stream",
          "text": [
            "Requirement already up-to-date: torch in /usr/local/lib/python3.6/dist-packages (1.2.0)\n",
            "Requirement already up-to-date: torchvision in /usr/local/lib/python3.6/dist-packages (0.4.0)\n",
            "Requirement already satisfied, skipping upgrade: numpy in /usr/local/lib/python3.6/dist-packages (from torch) (1.16.5)\n",
            "Requirement already satisfied, skipping upgrade: pillow>=4.1.1 in /usr/local/lib/python3.6/dist-packages (from torchvision) (4.3.0)\n",
            "Requirement already satisfied, skipping upgrade: six in /usr/local/lib/python3.6/dist-packages (from torchvision) (1.12.0)\n",
            "Requirement already satisfied, skipping upgrade: olefile in /usr/local/lib/python3.6/dist-packages (from pillow>=4.1.1->torchvision) (0.46)\n"
          ],
          "name": "stdout"
        }
      ]
    },
    {
      "cell_type": "code",
      "metadata": {
        "id": "f3TUUYE3oE4I",
        "colab_type": "code",
        "outputId": "1a8d8798-c8a5-4360-848b-1f7055441f01",
        "colab": {
          "base_uri": "https://localhost:8080/",
          "height": 50
        }
      },
      "source": [
        "import torch\n",
        "from torch.autograd import grad\n",
        "print(\"torch version: \", torch.__version__)\n",
        "device = torch.device(\"cuda\" if torch.cuda.is_available() else \"cpu\")\n",
        "print(device)"
      ],
      "execution_count": 0,
      "outputs": [
        {
          "output_type": "stream",
          "text": [
            "torch version:  1.2.0\n",
            "cuda\n"
          ],
          "name": "stdout"
        }
      ]
    },
    {
      "cell_type": "markdown",
      "metadata": {
        "id": "9FXUJ7zl8SJp",
        "colab_type": "text"
      },
      "source": [
        "##Scenario generator\n",
        "The following block generate the US Diversified equity scenario. It follows the logic from \n",
        "Academy's Interest Rate Generator version 7.1.201805 which is download from [Society of Acturies](https://www.soa.org/resources/tables-calcs-tools/research-scenario/)\n"
      ]
    },
    {
      "cell_type": "code",
      "metadata": {
        "id": "xXZtQeykoVyJ",
        "colab_type": "code",
        "colab": {}
      },
      "source": [
        "import math\n",
        "@torch.jit.script\n",
        "def aaa_us(N:int=10000, T:int=360, sigma_0:float=0.1476, device:str=\"cuda\"):\n",
        "\n",
        "  \"\"\"\n",
        "    return us equity scenario, following the AAA logic\n",
        "    N is scenario number, \n",
        "    T is the number of month\n",
        "    sigma_0 is the initial vol, default to AAA US Diversified Equity\n",
        "    All other parameters below are for US Diversified Equity and\n",
        "    copied from Academy's Interest Rate Generator (AIRG) (Version 7.1.201805)\n",
        "  \"\"\"\n",
        "\n",
        "\n",
        "  tau = 0.12515\n",
        "  phi = 0.35229\n",
        "  sigma_v =0.32645\n",
        "  rho = -0.2488\n",
        "  A = 0.055\n",
        "  B = 0.56\n",
        "  C = -0.9\n",
        "  \n",
        "  sigma_min = 0.0305\n",
        "  sigma_max = 0.3\n",
        "  sigma_max2 = 0.7988\n",
        "\n",
        "\n",
        "  #cholesky decompsition\n",
        "  corr=torch.eye(2,device=device)\n",
        "  corr[0,1]=rho\n",
        "  corr[1,0]=rho\n",
        "  chl=torch.cholesky(corr)\n",
        "\n",
        "  #correlated random number\n",
        "  rdn=torch.randn(N,T,2,1,device=device)\n",
        "  rdn=torch.matmul(chl,rdn)\n",
        "  rdn=rdn.view(N,T,2)\n",
        "\n",
        "  sigma=torch.ones(N,T+1,device=device)\n",
        "  us=torch.ones(N,T+1,device=device)\n",
        "\n",
        "  sigma[:,0]=sigma_0\n",
        "  us[:,0]=1.0\n",
        "\n",
        "  log_tau=math.log(tau)\n",
        "  log_sigma_min=math.log(sigma_min)\n",
        "  log_sigma_max=math.log(sigma_max)\n",
        "  log_sigma_max2=math.log(sigma_max2)\n",
        "\n",
        "  sqrt12=math.sqrt(12.0)\n",
        "  for t in range(T):\n",
        "    log_vol=torch.log(sigma[:,t])\n",
        "    log_vol=(1-phi)*log_vol+phi*log_tau\n",
        "    log_vol=torch.clamp(log_vol,max=log_sigma_max)\n",
        "    log_vol=log_vol+rdn[:,t,0]*sigma_v\n",
        "    log_vol=torch.clamp(log_vol,min=log_sigma_min,max=log_sigma_max2)\n",
        "    sigma[:,t+1]=torch.exp(log_vol)\n",
        "    mean_return=A+B*sigma[:,t+1]+C*sigma[:,t+1]*sigma[:,t+1]\n",
        "    next_return=mean_return/12.0+rdn[:,t,1]*sigma[:,t+1]/sqrt12\n",
        "    us[:,t+1]=us[:,t]*torch.exp(next_return)\n",
        "  return us, sigma"
      ],
      "execution_count": 0,
      "outputs": []
    },
    {
      "cell_type": "code",
      "metadata": {
        "id": "PfyGHShf7EpO",
        "colab_type": "code",
        "outputId": "d7b1bd84-49f8-41fd-ae59-7dc25a73be12",
        "colab": {
          "base_uri": "https://localhost:8080/",
          "height": 403
        }
      },
      "source": [
        "us, sigma = aaa_us()\n",
        "log120=torch.log(us[:,120])\n",
        "log360=torch.log(us[:,360])\n",
        "print(\"10 year point from original excel model \\navg ln=0.732818079,std ln=0.479882024\")\n",
        "print(\"10 year point from pytorch model\")\n",
        "print(\"avg ln=\",log120.mean().item(),\"std ln=\",log120.std().item())\n",
        "print(\"30 year point from original excel \\navg ln=2.196974867,std ln=0.825873276\")\n",
        "print(\"30 year point from pytorch model\")\n",
        "print(\"avg ln=\",log360.mean().item(),\"std ln=\",log360.std().item())\n",
        "\n",
        "import matplotlib.pyplot as plt\n",
        "import numpy as np\n",
        "us=us.to('cpu').numpy()\n",
        "pct2=np.percentile(us,2,axis=0)\n",
        "pct30=np.percentile(us,30,axis=0)\n",
        "pct50=np.percentile(us,50,axis=0)\n",
        "\n",
        "t2=torch.linspace(0,30,361).cpu().numpy()\n",
        "rf2=np.exp(.025*t2)\n",
        "plt.plot(t2,rf2,label='riskfree 2.5')\n",
        "plt.plot(t2,pct2,label='2%tile')\n",
        "plt.plot(t2,pct30,label='30%tile')\n",
        "plt.plot(t2,pct50,label='median')\n",
        "\n",
        "\n",
        "plt.yscale('log')\n",
        "plt.legend()\n",
        "plt.show()\n"
      ],
      "execution_count": 0,
      "outputs": [
        {
          "output_type": "stream",
          "text": [
            "10 year point from original excel model \n",
            "avg ln=0.732818079,std ln=0.479882024\n",
            "10 year point from pytorch model\n",
            "avg ln= 0.7351315021514893 std ln= 0.4738375246524811\n",
            "30 year point from original excel \n",
            "avg ln=2.196974867,std ln=0.825873276\n",
            "30 year point from pytorch model\n",
            "avg ln= 2.2050769329071045 std ln= 0.8335576057434082\n"
          ],
          "name": "stdout"
        },
        {
          "output_type": "display_data",
          "data": {
            "image/png": "[encoded data removed]",
            "text/plain": [
              "<Figure size 432x288 with 1 Axes>"
            ]
          },
          "metadata": {
            "tags": []
          }
        }
      ]
    },
    {
      "cell_type": "markdown",
      "metadata": {
        "id": "1mi0zCGRGtw4",
        "colab_type": "text"
      },
      "source": [
        "This chart compares return of AAA scenario at median, 30 percentile and 2 percentile to risk free growth in log scale. We assume risk free rate is 2.5%"
      ]
    },
    {
      "cell_type": "markdown",
      "metadata": {
        "id": "qHRaTa4_NH5b",
        "colab_type": "text"
      },
      "source": [
        "### Liability cashflow\n",
        "\n",
        "The liability is a 25 year put with strike at 3, with the index starts at 1.\n",
        "\n",
        "The growth rate to strike is the 4.5% per year.\n",
        "It is higher than the risk free rate of 2.5%. But much lower compared to the AAA scenario median growth rate of 8%."
      ]
    },
    {
      "cell_type": "code",
      "metadata": {
        "id": "wibPg5Odl7Rk",
        "colab_type": "code",
        "colab": {}
      },
      "source": [
        "def cashflow_1(scenario):\n",
        "  \"\"\"\n",
        "    cash flow module for a put\n",
        "  \"\"\"\n",
        "  strike = 3.\n",
        "  payout = torch.clamp(strike-scenario[:,-1],min=0.0)\n",
        "  cf=torch.zeros_like(scenario)\n",
        "  cf[:,-1].add_(payout)\n",
        "  return cf\n"
      ],
      "execution_count": 0,
      "outputs": []
    },
    {
      "cell_type": "markdown",
      "metadata": {
        "id": "0p5HvCotNUbZ",
        "colab_type": "text"
      },
      "source": [
        "Generate scenario and cashflow"
      ]
    },
    {
      "cell_type": "code",
      "metadata": {
        "id": "UDDBiZRGSFnp",
        "colab_type": "code",
        "colab": {}
      },
      "source": [
        "K1, K2 = 6, 10\n",
        "N1=2**K1   #batch count\n",
        "N2=2**K2   #batch size\n",
        "\n",
        "T=300\n",
        "rf=0.025\n",
        "\n",
        "idx,sigma=aaa_us(N=N1*N2,T=T)\n",
        "\n",
        "cf=cashflow_1(idx)\n",
        "\n",
        "idx=idx.view(N1,N2,T+1)\n",
        "sigma=sigma.view(N1,N2,T+1)\n",
        "cf=cf.view(N1,N2,T+1)\n",
        "\n",
        "t=torch.linspace(0,T/12,T+1,device=device)\n",
        "disc=torch.exp(-rf*t)\n",
        "disc=disc.repeat(N1,N2,1)\n",
        "\n",
        "pv_payout=cf[:,:,-1]*disc[:,:,-1]\n",
        "\n",
        "#the chg is discounted to time zero already\n",
        "chg=idx[:,:,1:]*disc[:,:,1:]-idx[:,:,:-1]*disc[:,:,:-1]\n",
        "\n",
        "# chg2 is the second order discounted to time zero    \n",
        "chg2=torch.log(idx[:,:,1:]/idx[:,:,:-1])**2-((sigma[:,:,1:])**2)/12\n",
        "chg2=chg2*disc[:,:,1:]"
      ],
      "execution_count": 0,
      "outputs": []
    },
    {
      "cell_type": "markdown",
      "metadata": {
        "id": "TEA4EfuYNa8h",
        "colab_type": "text"
      },
      "source": [
        "Manipulate data to feed to the neural network. "
      ]
    },
    {
      "cell_type": "code",
      "metadata": {
        "id": "hXsftJhfhySi",
        "colab_type": "code",
        "colab": {}
      },
      "source": [
        "t=torch.linspace(T/12,1/12,T,device=device)  #time to maturity\n",
        "t=t.repeat(N1,N2,1)\n",
        "s=idx[:,:,:-1].view(N1,N2,T,1)\n",
        "s.requires_grad=True\n",
        "v=sigma[:,:,:-1].view(N1,N2,T,1)\n",
        "t=t.view(N1,N2,T,1)\n",
        "tsv=torch.cat((t,s,v),3)"
      ],
      "execution_count": 0,
      "outputs": []
    },
    {
      "cell_type": "markdown",
      "metadata": {
        "id": "GxwmCEogNgRJ",
        "colab_type": "text"
      },
      "source": [
        "The neural network. we have three input: time to maturity, index level and the short term volatility from AAA scenario generator"
      ]
    },
    {
      "cell_type": "code",
      "metadata": {
        "id": "820HhYKgiXD3",
        "colab_type": "code",
        "colab": {}
      },
      "source": [
        "model_delta = torch.nn.Sequential(\n",
        "    torch.nn.Linear(3, 32),\n",
        "    torch.nn.Tanh(),\n",
        "    torch.nn.Linear(32,8),\n",
        "    torch.nn.Tanh(),\n",
        "    torch.nn.Linear(8, 1),\n",
        "    torch.nn.Sigmoid(),\n",
        ")\n",
        "model_delta = model_delta.to(device)"
      ],
      "execution_count": 0,
      "outputs": []
    },
    {
      "cell_type": "markdown",
      "metadata": {
        "id": "RRMoLAtiPE25",
        "colab_type": "text"
      },
      "source": [
        "The time step for AAA scenario is monthly. It is not sufficient for delta hedge. We use the gamma and expected volatility to approximate the result of daily rebalancing delta hedge. "
      ]
    },
    {
      "cell_type": "code",
      "metadata": {
        "id": "ct2mO3kxidGw",
        "colab_type": "code",
        "outputId": "91aad6c6-2b4e-4c33-fafb-08e0f21b0826",
        "colab": {
          "base_uri": "https://localhost:8080/",
          "height": 134
        }
      },
      "source": [
        "import time\n",
        "optimizer = torch.optim.AdamW(model_delta.parameters(),lr=0.02,\n",
        "                              weight_decay=1e-10,amsgrad=True)\n",
        "t1=time.time()\n",
        "for t in range(300):\n",
        "    for i in range(N1):\n",
        "        optimizer.zero_grad()\n",
        "        tsvi=tsv[i]\n",
        "        delta=-model_delta(tsvi)\n",
        "\n",
        "        g = torch.ones_like(delta)\n",
        "        gamma, =grad(delta,tsvi,grad_outputs=g,create_graph=True)   \n",
        "\n",
        "        delta=delta.view(N2,T)\n",
        "        gamma=gamma[:,:,1].view(N2,T)\n",
        "        delta_gl=torch.sum(delta*chg[i],dim=1)\n",
        "        gamma_gl=torch.sum(gamma*chg2[i],dim=1)\n",
        "\n",
        "        hedged_price=pv_payout[i]-delta_gl-gamma_gl\n",
        "      \n",
        "        loss=hedged_price.std()\n",
        "        loss.backward()\n",
        "        optimizer.step()    \n",
        "    if t%10==0: print(t,loss.item())\n",
        "    t2=time.time()\n",
        "    if t2-t1> 180:\n",
        "      break\n",
        "print(t2-t1)      "
      ],
      "execution_count": 0,
      "outputs": [
        {
          "output_type": "stream",
          "text": [
            "0 0.1560116708278656\n",
            "10 0.03731153532862663\n",
            "20 0.03659617528319359\n",
            "30 0.03574787825345993\n",
            "40 0.035005856305360794\n",
            "50 0.03449631109833717\n",
            "180.5077142715454\n"
          ],
          "name": "stdout"
        }
      ]
    },
    {
      "cell_type": "code",
      "metadata": {
        "id": "ykEJ58mHmOJ2",
        "colab_type": "code",
        "colab": {}
      },
      "source": [
        "import scipy.stats as si\n",
        "def call_bs(S, K, r, q, T, sigma):\n",
        "#    standard black scholes formula for call\n",
        "    d1 = (np.log(S / K) + (r - q + 0.5 * sigma ** 2) * T) / \\\n",
        "            (sigma * np.sqrt(T))\n",
        "    d2 = (np.log(S / K) + (r - q - 0.5 * sigma ** 2) * T) / \\\n",
        "            (sigma * np.sqrt(T))\n",
        "    call = (S * np.exp(-q * T) * si.norm.cdf(d1, 0.0, 1.0) - \\\n",
        "            K * np.exp(-r * T) * si.norm.cdf(d2, 0.0, 1.0))\n",
        "    return call\n",
        "  \n",
        "def delta_bs(S, K, r, q, T, sigma):\n",
        "#    standard black scholes delta formula for call\n",
        "    d1 = (np.log(S / K) + (r - q + 0.5 * sigma ** 2) * T) / \\\n",
        "            (sigma * np.sqrt(T))\n",
        "    delta =  np.exp(-q * T) * si.norm.cdf(d1, 0.0, 1.0)        \n",
        "    return delta"
      ],
      "execution_count": 0,
      "outputs": []
    },
    {
      "cell_type": "code",
      "metadata": {
        "id": "98sJ7HpBqOD4",
        "colab_type": "code",
        "outputId": "6bcb8817-df6b-452e-ae50-637d8a037965",
        "colab": {
          "base_uri": "https://localhost:8080/",
          "height": 336
        }
      },
      "source": [
        "import matplotlib.pyplot as plt\n",
        "import numpy as np\n",
        "\n",
        "vol=torch.log(idx[:,:,-1]).std().cpu().item()\n",
        "vol=vol/math.sqrt(25) \n",
        "#this is the effective volatility of the scenario at year 25\n",
        "\n",
        "plt.clf()\n",
        "plt.cla()\n",
        "plt.close()\n",
        "plt.figure(figsize=(8,5))\n",
        "plt.grid(True)\n",
        "\n",
        "tl=[1.0,5.0,10.0,25.0]\n",
        "for t in tl:\n",
        "  s=torch.linspace(0.1,10,200,device=device)\n",
        "  tsvc=torch.zeros((200,3),device=device)\n",
        "  tsvc[:,0]=t\n",
        "  tsvc[:,1]=s\n",
        "  tsvc[:,2]= 0.1476\n",
        "  d_bs=delta_bs(s.cpu().numpy(),3.,rf,0,t,vol)-1\n",
        "  d_nn=-model_delta(tsvc)\n",
        "  plt.plot(s.cpu().numpy(),d_bs,label=\"bs t=\"+ \"%.1f\" % t)\n",
        "  plt.plot(s.cpu().numpy(),d_nn.cpu().view(200).detach().numpy(),\n",
        "           label=\"nn t=\"+ \"%.1f\" % t)\n",
        "\n",
        "\n",
        "\n",
        "plt.title(\"delta chart\")\n",
        "plt.legend()\n",
        "#plt.savefig(\"test.svg\")\n",
        "plt.show()"
      ],
      "execution_count": 0,
      "outputs": [
        {
          "output_type": "display_data",
          "data": {
            "image/png": "[encoded data removed]",
            "text/plain": [
              "<Figure size 576x360 with 1 Axes>"
            ]
          },
          "metadata": {
            "tags": []
          }
        }
      ]
    },
    {
      "cell_type": "markdown",
      "metadata": {
        "id": "7lk1S3t0N0fZ",
        "colab_type": "text"
      },
      "source": [
        "The delta chart from the delta neural network actually matches up with the Black-Scholes delta relatively well. The volatility assumption for the Black-Scholes delta is based on the variance of log(index_25) distribution. At lower strike, the neural network tend to have slight smaller(more positive) delta. This is consistent with how AAA equity scenario is calibrated. The skew of the distribution is negative, which means the expected volatility of the remaining life of the put will be higher if the index is lower. And higher volatility leads to smaller delta."
      ]
    },
    {
      "cell_type": "code",
      "metadata": {
        "id": "NqWfeyEpf_kZ",
        "colab_type": "code",
        "colab": {}
      },
      "source": [
        "def cte98(e):\n",
        "  e=e.reshape(-1)\n",
        "  n=e.size()[0]\n",
        "  k=math.ceil(n*0.02)\n",
        "  l2=e.topk(k,sorted=False).values.mean()\n",
        "  return l2\n",
        "\n",
        "def cte70(e):\n",
        "  e=e.reshape(-1)\n",
        "  n=e.size()[0]\n",
        "  k=math.ceil(n*0.3)\n",
        "  l2=e.topk(k,sorted=False).values.mean()\n",
        "  return l2  "
      ],
      "execution_count": 0,
      "outputs": []
    },
    {
      "cell_type": "code",
      "metadata": {
        "id": "wjVP1GTZ6AiJ",
        "colab_type": "code",
        "outputId": "77fd8de8-24d8-4239-8e10-7193b6583883",
        "colab": {
          "base_uri": "https://localhost:8080/",
          "height": 302
        }
      },
      "source": [
        "delta=model_delta(tsv)\n",
        "delta=-delta.view(N1,N2,T)\n",
        "\n",
        "g = torch.ones_like(delta)\n",
        "gamma, =grad(delta,tsv,grad_outputs=g,create_graph=True)      \n",
        "\n",
        "gamma=gamma[:,:,:,1].view(N1,N2,T)\n",
        "delta_gl=torch.sum(delta*chg,dim=2)\n",
        "gamma_gl=torch.sum(gamma*chg2,dim=2)\n",
        "\n",
        "pre_hedge=pv_payout.std().item()\n",
        "post_hedge=(delta_gl+gamma_gl-pv_payout).std().item()\n",
        "\n",
        "print(\"\\n% scenario with payout: \",pv_payout.sign().mean().item())\n",
        "\n",
        "print(\"\\nstd pv payout, after hedge, effectiveness\")\n",
        "print(\"{:.2%}\".format(pre_hedge), \"{:.2%}\".format(post_hedge), \\\n",
        "      \"{:.2%}\".format(1-post_hedge/pre_hedge))\n",
        "\n",
        "print(\"\\nAverage, before and after hedge:\")\n",
        "print(pv_payout.mean().item())\n",
        "print((pv_payout-gamma_gl-delta_gl).mean().item())\n",
        "\n",
        "print(\"\\nCTE 70, before and after hedge:\")\n",
        "print(cte70(pv_payout).item())\n",
        "print(cte70(pv_payout-gamma_gl-delta_gl).item())\n",
        "\n",
        "print(\"\\nCTE 98, before and after hedge:\")\n",
        "print(cte98(pv_payout).item())\n",
        "print(cte98(pv_payout-gamma_gl-delta_gl).item())"
      ],
      "execution_count": 0,
      "outputs": [
        {
          "output_type": "stream",
          "text": [
            "\n",
            "% scenario with payout:  0.1674652099609375\n",
            "\n",
            "std pv payout, after hedge, effectiveness\n",
            "22.89% 3.51% 84.65%\n",
            "\n",
            "Average, before and after hedge:\n",
            "0.08270907402038574\n",
            "0.734856367111206\n",
            "\n",
            "CTE 70, before and after hedge:\n",
            "0.2756940722465515\n",
            "0.7749335765838623\n",
            "\n",
            "CTE 98, before and after hedge:\n",
            "1.0969529151916504\n",
            "0.8509539365768433\n"
          ],
          "name": "stdout"
        }
      ]
    },
    {
      "cell_type": "markdown",
      "metadata": {
        "id": "TM1RWMdeQHn2",
        "colab_type": "text"
      },
      "source": [
        "The hedge effectiveness is around 85%. \n",
        "\n",
        "The average after hedge is essentially a risk free price of the option. It is a lot higher compared to the unhedged average which is real world.\n",
        "\n",
        "The CTE 70 is worse compared to unhedged case. This is expected since the CTE 70 grows faster than risk free rate. \n",
        "\n",
        "CTE98 actually improved from 1.1 to around 0.85 mostly because 2 percentile of the AAA scenario return grow at a slower rate compared to risk free rate. \n",
        "\n"
      ]
    },
    {
      "cell_type": "markdown",
      "metadata": {
        "id": "BNKXy5gcOzH5",
        "colab_type": "text"
      },
      "source": [
        "### Add CTE98 as training target"
      ]
    },
    {
      "cell_type": "markdown",
      "metadata": {
        "id": "PIOGvkmyJKer",
        "colab_type": "text"
      },
      "source": [
        "The framework is flexible enough we can actually incorporate CTE 98 as a training target directly. \n",
        "\n",
        "CTE 70 doesn't work very well as a training target. The model will ask us to stop hedging completely since 30th percentile of the scenario grows too fast compared to risk free rate."
      ]
    },
    {
      "cell_type": "code",
      "metadata": {
        "colab_type": "code",
        "id": "pJ1_QUPXfdyx",
        "colab": {}
      },
      "source": [
        "cte_delta = torch.nn.Sequential(\n",
        "    torch.nn.Linear(3, 32),\n",
        "    torch.nn.Tanh(),\n",
        "    torch.nn.Linear(32,8),\n",
        "    torch.nn.Tanh(),\n",
        "    torch.nn.Linear(8, 1),\n",
        "    torch.nn.Sigmoid(),\n",
        ")\n",
        "cte_delta = cte_delta.to(device)"
      ],
      "execution_count": 0,
      "outputs": []
    },
    {
      "cell_type": "markdown",
      "metadata": {
        "id": "pLwuGuVNJstx",
        "colab_type": "text"
      },
      "source": [
        "When using CTE98 target directly, the weight update will be calculated based on only a small set of scenarios. And the training speed is slower. So we first train the network with the std target for a little bit. Then shift to the CTE 98 target. "
      ]
    },
    {
      "cell_type": "code",
      "metadata": {
        "id": "nyMoDbmGfqKU",
        "colab_type": "code",
        "outputId": "0ad9ca47-af39-4bfd-88f6-2c8104bbc5fe",
        "colab": {
          "base_uri": "https://localhost:8080/",
          "height": 218
        }
      },
      "source": [
        "import time\n",
        "optimizer = torch.optim.AdamW(cte_delta.parameters(),lr=0.02,\n",
        "                              weight_decay=1e-10,amsgrad=True)\n",
        "t1=time.time()\n",
        "\n",
        "for t in range(5):\n",
        "    for i in range(N1):\n",
        "        optimizer.zero_grad()\n",
        "        tsvi=tsv[i]\n",
        "        delta=-cte_delta(tsvi)\n",
        "\n",
        "        g = torch.ones_like(delta)\n",
        "        gamma, =grad(delta,tsvi,grad_outputs=g,create_graph=True)   \n",
        "\n",
        "        delta=delta.view(N2,T)\n",
        "        gamma=gamma[:,:,1].view(N2,T)\n",
        "        delta_gl=torch.sum(delta*chg[i],dim=1)\n",
        "        gamma_gl=torch.sum(gamma*chg2[i],dim=1)\n",
        "\n",
        "        hedged_price=pv_payout[i]-delta_gl-gamma_gl\n",
        "      \n",
        "        loss=hedged_price.std()\n",
        "        loss.backward()\n",
        "        optimizer.step()    \n",
        "\n",
        "# need bigger batch size for CTE training\n",
        "N1=2**(K1-3)   #batch count\n",
        "N2=2**(K2+3)   #batch size\n",
        "tsv=tsv.view(N1,N2,T,3)\n",
        "chg=chg.view(N1,N2,T)\n",
        "chg2=chg2.view(N1,N2,T)\n",
        "pv_payout=pv_payout.view(N1,N2)\n",
        "\n",
        "optimizer = torch.optim.AdamW(cte_delta.parameters(),lr=0.02,\n",
        "                              weight_decay=1e-10,amsgrad=True)\n",
        "for t in range(300):\n",
        "    for i in range(N1):\n",
        "        optimizer.zero_grad()\n",
        "        tsvi=tsv[i]\n",
        "        delta=-cte_delta(tsvi)\n",
        "\n",
        "        g = torch.ones_like(delta)\n",
        "        gamma, =grad(delta,tsvi,grad_outputs=g,create_graph=True)   \n",
        "\n",
        "        delta=delta.view(N2,T)\n",
        "        gamma=gamma[:,:,1].view(N2,T)\n",
        "        delta_gl=torch.sum(delta*chg[i],dim=1)\n",
        "        gamma_gl=torch.sum(gamma*chg2[i],dim=1)\n",
        "\n",
        "        hedged_price=pv_payout[i]-delta_gl-gamma_gl\n",
        "      \n",
        "        loss=cte98(hedged_price) #+hedged_price.std()\n",
        "        loss.backward()\n",
        "        optimizer.step()    \n",
        "    if t%10==0: print(t,loss.item())\n",
        "    t2=time.time()\n",
        "    if t2-t1> 300:\n",
        "      print(t2-t1)\n",
        "      break"
      ],
      "execution_count": 0,
      "outputs": [
        {
          "output_type": "stream",
          "text": [
            "0 1.0653512477874756\n",
            "10 0.8125249147415161\n",
            "20 0.8129321336746216\n",
            "30 0.8117166757583618\n",
            "40 0.8077951669692993\n",
            "50 0.8084567785263062\n",
            "60 0.825477123260498\n",
            "70 0.8077377676963806\n",
            "80 0.8168935775756836\n",
            "90 0.80970698595047\n",
            "100 0.8093900680541992\n",
            "300.2751922607422\n"
          ],
          "name": "stdout"
        }
      ]
    },
    {
      "cell_type": "code",
      "metadata": {
        "colab_type": "code",
        "outputId": "65d3328e-7590-42e1-a539-339cc5c9d586",
        "id": "xi9fEkWJk233",
        "colab": {
          "base_uri": "https://localhost:8080/",
          "height": 336
        }
      },
      "source": [
        "import matplotlib.pyplot as plt\n",
        "import numpy as np\n",
        "\n",
        "plt.clf()\n",
        "plt.cla()\n",
        "plt.close()\n",
        "plt.figure(figsize=(8,5))\n",
        "plt.grid(True)\n",
        "\n",
        "tl=[1,5.0,25.0]\n",
        "for t in tl:\n",
        "  s=torch.linspace(0.1,10,200,device=device)\n",
        "  tsvc=torch.zeros((200,3),device=device)\n",
        "  tsvc[:,0]=t\n",
        "  tsvc[:,1]=s\n",
        "  tsvc[:,2]= 0.1476\n",
        "  d_cte=-cte_delta(tsvc)\n",
        "  d_nn=-model_delta(tsvc)\n",
        "\n",
        "  plt.plot(s.cpu().numpy(),d_nn.cpu().view(200).detach().numpy(),\n",
        "           label=\"std t=\"+ \"%.1f\" % t)\n",
        "\n",
        "  plt.plot(s.cpu().numpy(),d_cte.cpu().view(200).detach().numpy(),\n",
        "           label=\"cte t=\"+ \"%.1f\" % t)\n",
        "\n",
        "\n",
        "plt.title(\"delta chart, std target vs cte target\")\n",
        "plt.legend()\n",
        "#plt.savefig(\"test.svg\")\n",
        "plt.show()"
      ],
      "execution_count": 0,
      "outputs": [
        {
          "output_type": "display_data",
          "data": {
            "image/png": "[encoded data removed]",
            "text/plain": [
              "<Figure size 576x360 with 1 Axes>"
            ]
          },
          "metadata": {
            "tags": []
          }
        }
      ]
    },
    {
      "cell_type": "markdown",
      "metadata": {
        "id": "CG4obFcCJ9_V",
        "colab_type": "text"
      },
      "source": [
        "After using CTE as traning target, the delta is smaller(more positive) compared to previous model. This is to take advantage of the build in upward drift of the AAA scenario. It's interesting that the slope of delta curve(gamma) could change direction for very low index levels. “Be fearful when others are greedy and greedy when others are fearful.” :)"
      ]
    },
    {
      "cell_type": "code",
      "metadata": {
        "colab_type": "code",
        "outputId": "48e6db96-361d-4692-967b-217f333af266",
        "id": "2SORbZG_0Lzm",
        "colab": {
          "base_uri": "https://localhost:8080/",
          "height": 302
        }
      },
      "source": [
        "delta=cte_delta(tsv)\n",
        "delta=-delta.view(N1,N2,T)\n",
        "\n",
        "g = torch.ones_like(delta)\n",
        "gamma, =grad(delta,tsv,grad_outputs=g,create_graph=True)      \n",
        "\n",
        "gamma=gamma[:,:,:,1].view(N1,N2,T)\n",
        "delta_gl=torch.sum(delta*chg,dim=2)\n",
        "gamma_gl=torch.sum(gamma*chg2,dim=2)\n",
        "\n",
        "pre_hedge=pv_payout.std().item()\n",
        "post_hedge=(delta_gl+gamma_gl-pv_payout).std().item()\n",
        "\n",
        "print(\"\\n% scenario with payout: \",pv_payout.sign().mean().item())\n",
        "\n",
        "print(\"\\nstd pv payout, after hedge, effectiveness\")\n",
        "print(\"{:.2%}\".format(pre_hedge), \"{:.2%}\".format(post_hedge), \\\n",
        "      \"{:.2%}\".format(1-post_hedge/pre_hedge))\n",
        "\n",
        "print(\"\\nAverage, before and after hedge:\")\n",
        "print(pv_payout.mean().item())\n",
        "print((pv_payout-gamma_gl-delta_gl).mean().item())\n",
        "\n",
        "print(\"\\nCTE 70, before and after hedge:\")\n",
        "print(cte70(pv_payout).item())\n",
        "print(cte70(pv_payout-gamma_gl-delta_gl).item())\n",
        "\n",
        "print(\"\\nCTE 98, before and after hedge:\")\n",
        "print(cte98(pv_payout).item())\n",
        "print(cte98(pv_payout-gamma_gl-delta_gl).item())"
      ],
      "execution_count": 0,
      "outputs": [
        {
          "output_type": "stream",
          "text": [
            "\n",
            "% scenario with payout:  0.1674652099609375\n",
            "\n",
            "std pv payout, after hedge, effectiveness\n",
            "22.89% 4.96% 78.31%\n",
            "\n",
            "Average, before and after hedge:\n",
            "0.08270907402038574\n",
            "0.6574236154556274\n",
            "\n",
            "CTE 70, before and after hedge:\n",
            "0.2756940722465515\n",
            "0.7163681983947754\n",
            "\n",
            "CTE 98, before and after hedge:\n",
            "1.0969529151916504\n",
            "0.8149317502975464\n"
          ],
          "name": "stdout"
        }
      ]
    },
    {
      "cell_type": "markdown",
      "metadata": {
        "id": "YAVYF2FWJfxt",
        "colab_type": "text"
      },
      "source": [
        "The hedge effectiveness decreased as expected. But the CTE further improved from 0.81 compared to std target"
      ]
    },
    {
      "cell_type": "markdown",
      "metadata": {
        "id": "R1P_LwQeUGEW",
        "colab_type": "text"
      },
      "source": [
        "## Conclusion \n",
        "We demostrated \n",
        "\n",
        "* How to hedge under AAA scenario. \n",
        "\n",
        "A second order approximation for daily rebalance is needed to gain high hedge effectiveness. Monthly rebalance is not good enough\n",
        "\n",
        "* How to hedge to CTE98 target. \n",
        "Train on std target for a little bit. Then switch to CTE98 target. It is also possible to use a blend CTE98 and std target to train. "
      ]
    }
  ]
}