{
  "nbformat": 4,
  "nbformat_minor": 0,
  "metadata": {
    "colab": {
      "name": "AAA scenario 25yr put.ipynb",
      "provenance": [],
      "collapsed_sections": [],
      "include_colab_link": true
    },
    "kernelspec": {
      "name": "python3",
      "display_name": "Python 3"
    },
    "accelerator": "GPU"
  },
  "cells": [
    {
      "cell_type": "markdown",
      "metadata": {
        "id": "view-in-github",
        "colab_type": "text"
      },
      "source": [
        "<a href=\"https://colab.research.google.com/github/yufeng66/FutureGreeks/blob/master/AAA_scenario_25yr_put.ipynb\" target=\"_parent\"><img src=\"https://colab.research.google.com/assets/colab-badge.svg\" alt=\"Open In Colab\"/></a>"
      ]
    },
    {
      "cell_type": "markdown",
      "metadata": {
        "id": "7UPRMwdSLDEq",
        "colab_type": "text"
      },
      "source": [
        "# AAA scenario, future greek example"
      ]
    },
    {
      "cell_type": "markdown",
      "metadata": {
        "id": "_Pjf91j-LKqB",
        "colab_type": "text"
      },
      "source": [
        "First, make sure GPU is avaiable."
      ]
    },
    {
      "cell_type": "code",
      "metadata": {
        "id": "hzjxO_CHnydR",
        "colab_type": "code",
        "outputId": "4548184c-2a60-46fc-89cd-d01091e571fc",
        "colab": {
          "base_uri": "https://localhost:8080/",
          "height": 286
        }
      },
      "source": [
        "!nvidia-smi"
      ],
      "execution_count": 0,
      "outputs": [
        {
          "output_type": "stream",
          "text": [
            "Wed Oct 16 19:28:35 2019       \n",
            "+-----------------------------------------------------------------------------+\n",
            "| NVIDIA-SMI 430.40       Driver Version: 418.67       CUDA Version: 10.1     |\n",
            "|-------------------------------+----------------------+----------------------+\n",
            "| GPU  Name        Persistence-M| Bus-Id        Disp.A | Volatile Uncorr. ECC |\n",
            "| Fan  Temp  Perf  Pwr:Usage/Cap|         Memory-Usage | GPU-Util  Compute M. |\n",
            "|===============================+======================+======================|\n",
            "|   0  Tesla K80           Off  | 00000000:00:04.0 Off |                    0 |\n",
            "| N/A   69C    P0    73W / 149W |   2164MiB / 11441MiB |      0%      Default |\n",
            "+-------------------------------+----------------------+----------------------+\n",
            "                                                                               \n",
            "+-----------------------------------------------------------------------------+\n",
            "| Processes:                                                       GPU Memory |\n",
            "|  GPU       PID   Type   Process name                             Usage      |\n",
            "|=============================================================================|\n",
            "+-----------------------------------------------------------------------------+\n"
          ],
          "name": "stdout"
        }
      ]
    },
    {
      "cell_type": "markdown",
      "metadata": {
        "id": "Bi2up0ALLTND",
        "colab_type": "text"
      },
      "source": [
        "Update to the latest pytorch packages"
      ]
    },
    {
      "cell_type": "code",
      "metadata": {
        "id": "cNTtAJKloDNR",
        "colab_type": "code",
        "outputId": "320d61ab-5ddb-41f8-c8d8-228726a38f51",
        "colab": {
          "base_uri": "https://localhost:8080/",
          "height": 138
        }
      },
      "source": [
        "!pip3 install torch torchvision --upgrade"
      ],
      "execution_count": 0,
      "outputs": [
        {
          "output_type": "stream",
          "text": [
            "Requirement already up-to-date: torch in /usr/local/lib/python3.6/dist-packages (1.3.0)\n",
            "Requirement already up-to-date: torchvision in /usr/local/lib/python3.6/dist-packages (0.4.1)\n",
            "Requirement already satisfied, skipping upgrade: numpy in /usr/local/lib/python3.6/dist-packages (from torch) (1.16.5)\n",
            "Requirement already satisfied, skipping upgrade: pillow>=4.1.1 in /usr/local/lib/python3.6/dist-packages (from torchvision) (4.3.0)\n",
            "Requirement already satisfied, skipping upgrade: six in /usr/local/lib/python3.6/dist-packages (from torchvision) (1.12.0)\n",
            "Requirement already satisfied, skipping upgrade: olefile in /usr/local/lib/python3.6/dist-packages (from pillow>=4.1.1->torchvision) (0.46)\n"
          ],
          "name": "stdout"
        }
      ]
    },
    {
      "cell_type": "markdown",
      "metadata": {
        "id": "BCuha1XGLXuS",
        "colab_type": "text"
      },
      "source": [
        "Typical import and housekeeping"
      ]
    },
    {
      "cell_type": "code",
      "metadata": {
        "id": "f3TUUYE3oE4I",
        "colab_type": "code",
        "outputId": "8cb328fe-e72f-4693-fc99-2ee68b6618fb",
        "colab": {
          "base_uri": "https://localhost:8080/",
          "height": 50
        }
      },
      "source": [
        "import torch\n",
        "import numpy as np\n",
        "from torch.autograd import grad\n",
        "print(\"torch version: \", torch.__version__)\n",
        "device = torch.device(\"cuda\" if torch.cuda.is_available() else \"cpu\")\n",
        "print(device)"
      ],
      "execution_count": 0,
      "outputs": [
        {
          "output_type": "stream",
          "text": [
            "torch version:  1.3.0\n",
            "cuda\n"
          ],
          "name": "stdout"
        }
      ]
    },
    {
      "cell_type": "markdown",
      "metadata": {
        "id": "9FXUJ7zl8SJp",
        "colab_type": "text"
      },
      "source": [
        "##Scenario generator\n",
        "The following block generate the US Diversified equity scenario. It follows the logic from \n",
        "Academy's Interest Rate Generator version 7.1.201805 which is download from [Society of Acturies](https://www.soa.org/resources/tables-calcs-tools/research-scenario/)\n"
      ]
    },
    {
      "cell_type": "code",
      "metadata": {
        "id": "xXZtQeykoVyJ",
        "colab_type": "code",
        "colab": {}
      },
      "source": [
        "import math\n",
        "@torch.jit.script\n",
        "def aaa_us(N:int=10000, T:int=360, sigma_0:float=0.1476, device:str=\"cuda\"):\n",
        "\n",
        "  \"\"\"\n",
        "    return us equity scenario, following the AAA logic\n",
        "    N is scenario number, \n",
        "    T is the number of month\n",
        "    sigma_0 is the initial vol, default to AAA US Diversified Equity\n",
        "    All other parameters below are for US Diversified Equity and\n",
        "    copied from Academy's Interest Rate Generator (AIRG) (Version 7.1.201805)\n",
        "  \"\"\"\n",
        "\n",
        "\n",
        "  tau = 0.12515\n",
        "  phi = 0.35229\n",
        "  sigma_v =0.32645\n",
        "  rho = -0.2488\n",
        "  A = 0.055\n",
        "  B = 0.56\n",
        "  C = -0.9\n",
        "  \n",
        "  sigma_min = 0.0305\n",
        "  sigma_max = 0.3\n",
        "  sigma_max2 = 0.7988\n",
        "\n",
        "\n",
        "  #cholesky decompsition\n",
        "  corr=torch.eye(2,device=device)\n",
        "  corr[0,1]=rho\n",
        "  corr[1,0]=rho\n",
        "  chl=torch.cholesky(corr)\n",
        "\n",
        "  #correlated random number\n",
        "  rdn=torch.randn(N,T,2,1,device=device)\n",
        "  rdn=torch.matmul(chl,rdn)\n",
        "  rdn=rdn.view(N,T,2)\n",
        "\n",
        "  sigma=torch.ones(N,T+1,device=device)\n",
        "  us=torch.ones(N,T+1,device=device)\n",
        "\n",
        "  sigma[:,0]=sigma_0\n",
        "  us[:,0]=1.0\n",
        "\n",
        "  log_tau=math.log(tau)\n",
        "  log_sigma_min=math.log(sigma_min)\n",
        "  log_sigma_max=math.log(sigma_max)\n",
        "  log_sigma_max2=math.log(sigma_max2)\n",
        "\n",
        "  sqrt12=math.sqrt(12.0)\n",
        "  for t in range(T):\n",
        "    log_vol=torch.log(sigma[:,t])\n",
        "    log_vol=(1-phi)*log_vol+phi*log_tau\n",
        "    log_vol=torch.clamp(log_vol,max=log_sigma_max)\n",
        "    log_vol=log_vol+rdn[:,t,0]*sigma_v\n",
        "    log_vol=torch.clamp(log_vol,min=log_sigma_min,max=log_sigma_max2)\n",
        "    sigma[:,t+1]=torch.exp(log_vol)\n",
        "    mean_return=A+B*sigma[:,t+1]+C*sigma[:,t+1]*sigma[:,t+1]\n",
        "    next_return=mean_return/12.0+rdn[:,t,1]*sigma[:,t+1]/sqrt12\n",
        "    us[:,t+1]=us[:,t]*torch.exp(next_return)\n",
        "  return us, sigma"
      ],
      "execution_count": 0,
      "outputs": []
    },
    {
      "cell_type": "markdown",
      "metadata": {
        "id": "hobxqeibLgTy",
        "colab_type": "text"
      },
      "source": [
        "Compare key statistics of the scenario generator with the original excel version"
      ]
    },
    {
      "cell_type": "code",
      "metadata": {
        "id": "PfyGHShf7EpO",
        "colab_type": "code",
        "outputId": "51fc19c1-a132-487d-b998-0380b6c8a6d4",
        "colab": {
          "base_uri": "https://localhost:8080/",
          "height": 403
        }
      },
      "source": [
        "us, sigma = aaa_us()\n",
        "log120=torch.log(us[:,120])\n",
        "log360=torch.log(us[:,360])\n",
        "print(\"10 year point from original excel model \\navg ln=0.732818079,std ln=0.479882024\")\n",
        "print(\"10 year point from pytorch model\")\n",
        "print(\"avg ln=\",log120.mean().item(),\"std ln=\",log120.std().item())\n",
        "print(\"30 year point from original excel \\navg ln=2.196974867,std ln=0.825873276\")\n",
        "print(\"30 year point from pytorch model\")\n",
        "print(\"avg ln=\",log360.mean().item(),\"std ln=\",log360.std().item())\n",
        "\n",
        "import matplotlib.pyplot as plt\n",
        "\n",
        "us=us.to('cpu').numpy()\n",
        "pct2=np.percentile(us,2,axis=0)\n",
        "pct30=np.percentile(us,30,axis=0)\n",
        "pct50=np.percentile(us,50,axis=0)\n",
        "\n",
        "t2=torch.linspace(0,30,361).cpu().numpy()\n",
        "rf2=np.exp(.025*t2)\n",
        "plt.plot(t2,rf2,label='riskfree 2.5')\n",
        "plt.plot(t2,pct2,label='2%tile')\n",
        "plt.plot(t2,pct30,label='30%tile')\n",
        "plt.plot(t2,pct50,label='median')\n",
        "\n",
        "\n",
        "plt.yscale('log')\n",
        "plt.legend()\n",
        "plt.show()\n"
      ],
      "execution_count": 0,
      "outputs": [
        {
          "output_type": "stream",
          "text": [
            "10 year point from original excel model \n",
            "avg ln=0.732818079,std ln=0.479882024\n",
            "10 year point from pytorch model\n",
            "avg ln= 0.7297905683517456 std ln= 0.47575047612190247\n",
            "30 year point from original excel \n",
            "avg ln=2.196974867,std ln=0.825873276\n",
            "30 year point from pytorch model\n",
            "avg ln= 2.2024662494659424 std ln= 0.8309392929077148\n"
          ],
          "name": "stdout"
        },
        {
          "output_type": "display_data",
          "data": {
            "image/png": "[encoded data removed]",
            "text/plain": [
              "<Figure size 432x288 with 1 Axes>"
            ]
          },
          "metadata": {
            "tags": []
          }
        }
      ]
    },
    {
      "cell_type": "markdown",
      "metadata": {
        "id": "1mi0zCGRGtw4",
        "colab_type": "text"
      },
      "source": [
        "This chart compares return of AAA scenario at median, 30 percentile and 2 percentile to risk free growth in log scale. We assume risk free rate is 2.5%"
      ]
    },
    {
      "cell_type": "markdown",
      "metadata": {
        "id": "qHRaTa4_NH5b",
        "colab_type": "text"
      },
      "source": [
        "### Liability cashflow\n",
        "\n",
        "The liability is a 25 year put with strike at 3, with the index starts at 1.\n",
        "\n",
        "The growth rate to strike is the 4.5% per year.\n",
        "It is higher than the risk free rate of 2.5%. But much lower compared to the AAA scenario median growth rate of 8%."
      ]
    },
    {
      "cell_type": "code",
      "metadata": {
        "id": "wibPg5Odl7Rk",
        "colab_type": "code",
        "colab": {}
      },
      "source": [
        "def cashflow_1(scenario):\n",
        "  \"\"\"\n",
        "    cash flow module for a put\n",
        "  \"\"\"\n",
        "  strike = 3.\n",
        "  payout = torch.clamp(strike-scenario[:,-1],min=0.0)\n",
        "  cf=torch.zeros_like(scenario)\n",
        "  cf[:,-1].add_(payout)\n",
        "  return cf\n"
      ],
      "execution_count": 0,
      "outputs": []
    },
    {
      "cell_type": "markdown",
      "metadata": {
        "id": "0p5HvCotNUbZ",
        "colab_type": "text"
      },
      "source": [
        "Generate scenario and cashflow"
      ]
    },
    {
      "cell_type": "code",
      "metadata": {
        "id": "UDDBiZRGSFnp",
        "colab_type": "code",
        "colab": {}
      },
      "source": [
        "K1, K2 = 3, 10\n",
        "N1=2**K1   #batch count\n",
        "N2=2**K2   #batch size\n",
        "\n",
        "T=300\n",
        "rf=0.025\n",
        "\n",
        "idx,sigma=aaa_us(N=N1*N2,T=T)\n",
        "\n",
        "cf=cashflow_1(idx)\n",
        "\n",
        "idx=idx.view(N1,N2,T+1)\n",
        "sigma=sigma.view(N1,N2,T+1)\n",
        "cf=cf.view(N1,N2,T+1)\n",
        "\n",
        "t=torch.linspace(0,T/12,T+1,device=device)\n",
        "disc=torch.exp(-rf*t)\n",
        "disc=disc.repeat(N1,N2,1)\n",
        "\n",
        "pv_payout=cf[:,:,-1]*disc[:,:,-1]\n",
        "\n",
        "#the chg is discounted to time zero already\n",
        "chg=idx[:,:,1:]*disc[:,:,1:]-idx[:,:,:-1]*disc[:,:,:-1]\n",
        "\n",
        "# chg2 is the second order discounted to time zero    \n",
        "chg2=torch.log(idx[:,:,1:]/idx[:,:,:-1])**2-((sigma[:,:,1:])**2)/12\n",
        "chg2=chg2*disc[:,:,1:]"
      ],
      "execution_count": 0,
      "outputs": []
    },
    {
      "cell_type": "markdown",
      "metadata": {
        "id": "TEA4EfuYNa8h",
        "colab_type": "text"
      },
      "source": [
        "Manipulate data to feed to the neural network. "
      ]
    },
    {
      "cell_type": "code",
      "metadata": {
        "id": "hXsftJhfhySi",
        "colab_type": "code",
        "colab": {}
      },
      "source": [
        "t=torch.linspace(T/12,1/12,T,device=device)  #time to maturity\n",
        "t=t.repeat(N1,N2,1)\n",
        "s=idx[:,:,:-1].view(N1,N2,T,1)\n",
        "s.requires_grad=True\n",
        "v=sigma[:,:,:-1].view(N1,N2,T,1)\n",
        "t=t.view(N1,N2,T,1)\n",
        "tsv=torch.cat((t,s,v),3)"
      ],
      "execution_count": 0,
      "outputs": []
    },
    {
      "cell_type": "markdown",
      "metadata": {
        "id": "p84zxVB6Lzsb",
        "colab_type": "text"
      },
      "source": [
        "Calculate the effective volatility of the scenarios at year 25"
      ]
    },
    {
      "cell_type": "code",
      "metadata": {
        "id": "3gg_o2kDLxVp",
        "colab_type": "code",
        "colab": {}
      },
      "source": [
        "vol=torch.log(idx[:,:,-1]).std().cpu().item()\n",
        "vol=vol/math.sqrt(25) \n",
        "#this is the effective volatility of the scenario at year 25"
      ],
      "execution_count": 0,
      "outputs": []
    },
    {
      "cell_type": "markdown",
      "metadata": {
        "id": "YipxB7MbL4Fh",
        "colab_type": "text"
      },
      "source": [
        "Release memory by delete object"
      ]
    },
    {
      "cell_type": "code",
      "metadata": {
        "id": "eqWTlDhC_TCt",
        "colab_type": "code",
        "colab": {}
      },
      "source": [
        "\n",
        "\n",
        "#delete objects to release memory\n",
        "del t\n",
        "del v\n",
        "del idx\n",
        "del sigma\n"
      ],
      "execution_count": 0,
      "outputs": []
    },
    {
      "cell_type": "markdown",
      "metadata": {
        "id": "GxwmCEogNgRJ",
        "colab_type": "text"
      },
      "source": [
        "The neural network. we have three input: time to maturity, index level and the short term volatility from AAA scenario generator"
      ]
    },
    {
      "cell_type": "code",
      "metadata": {
        "id": "820HhYKgiXD3",
        "colab_type": "code",
        "colab": {}
      },
      "source": [
        "model_delta = torch.nn.Sequential(\n",
        "    torch.nn.Linear(3, 24),\n",
        "    torch.nn.Tanh(),\n",
        "    torch.nn.Linear(24,12),\n",
        "    torch.nn.Tanh(),\n",
        "    torch.nn.Linear(12, 1),\n",
        "    torch.nn.Sigmoid(),\n",
        ")\n",
        "model_delta = model_delta.to(device)"
      ],
      "execution_count": 0,
      "outputs": []
    },
    {
      "cell_type": "markdown",
      "metadata": {
        "id": "RRMoLAtiPE25",
        "colab_type": "text"
      },
      "source": [
        "First we train with AdamW optimizer to warm up\n",
        "\n",
        "The time step for AAA scenario is monthly. It is not sufficient for delta hedge. We use the gamma and expected volatility to approximate the result of daily rebalancing delta hedge. "
      ]
    },
    {
      "cell_type": "code",
      "metadata": {
        "id": "ct2mO3kxidGw",
        "colab_type": "code",
        "outputId": "5b13a9da-62ea-4ec6-9776-703592164e5f",
        "colab": {
          "base_uri": "https://localhost:8080/",
          "height": 118
        }
      },
      "source": [
        "import time\n",
        "optimizer = torch.optim.AdamW(model_delta.parameters(),lr=0.03,\n",
        "                              weight_decay=1e-10,amsgrad=True)\n",
        "t1=time.time()\n",
        "for j in range(50):\n",
        "    for i in range(N1):\n",
        "        optimizer.zero_grad()\n",
        "        tsvi=tsv[i]\n",
        "        delta=-model_delta(tsvi)\n",
        "# gamma is used to approximate the daily rebalance g/l\n",
        "        g = torch.ones_like(delta)\n",
        "        gamma, =grad(delta,tsvi,grad_outputs=g,create_graph=True)   \n",
        "\n",
        "        delta=delta.view(N2,T)\n",
        "        gamma=gamma[:,:,1].view(N2,T)\n",
        "        delta_gl=torch.sum(delta*chg[i],dim=1)\n",
        "        gamma_gl=torch.sum(gamma*chg2[i],dim=1)\n",
        "\n",
        "        hedged_price=pv_payout[i]-delta_gl-gamma_gl\n",
        "      \n",
        "        loss=hedged_price.std()\n",
        "        loss.backward()\n",
        "        optimizer.step()    \n",
        "    if j%10==0: print(j,loss.item())\n",
        "    t2=time.time()\n",
        "    if t2-t1> 180:\n",
        "      break\n",
        "print(\"{:.3}\".format(t2-t1), \" seconds\")     "
      ],
      "execution_count": 0,
      "outputs": [
        {
          "output_type": "stream",
          "text": [
            "0 0.21955272555351257\n",
            "10 0.06854148209095001\n",
            "20 0.04668571427464485\n",
            "30 0.041626669466495514\n",
            "40 0.03516445681452751\n",
            "12.8  seconds\n"
          ],
          "name": "stdout"
        }
      ]
    },
    {
      "cell_type": "markdown",
      "metadata": {
        "id": "aV-tpMo1MMtu",
        "colab_type": "text"
      },
      "source": [
        "Now the LBFGS optimizer. LBFGS converges much faster when it works."
      ]
    },
    {
      "cell_type": "code",
      "metadata": {
        "id": "4IseoZ944uKI",
        "colab_type": "code",
        "outputId": "3e321392-47e8-4c9d-8404-fe69072f588a",
        "colab": {
          "base_uri": "https://localhost:8080/",
          "height": 67
        }
      },
      "source": [
        "optimizer = torch.optim.LBFGS(model_delta.parameters(),lr=1.0,\n",
        "                             max_iter=100,line_search_fn =\"strong_wolfe\",\n",
        "                             tolerance_grad=1e-30, tolerance_change=1e-30)\n",
        "def closure():\n",
        "  optimizer.zero_grad()\n",
        "  delta=-model_delta(tsv)\n",
        "  delta=delta.view(N1,N2,T)\n",
        "  # gamma is used to approximate the daily rebalance g/l\n",
        "  g = torch.ones_like(delta)\n",
        "  gamma, =grad(delta,tsv,grad_outputs=g,create_graph=True)   \n",
        "  gamma=gamma[:,:,:,1].view(N1,N2,T)\n",
        "  delta_gl=torch.sum(delta*chg,dim=2)\n",
        "  gamma_gl=torch.sum(gamma*chg2,dim=2)\n",
        "  hedged_price=pv_payout-delta_gl-gamma_gl\n",
        "  loss=hedged_price.std()\n",
        "  loss.backward()  \n",
        "  return loss\n",
        "\n",
        "t1=time.time()\n",
        "print(\"init\",closure().item())\n",
        "optimizer.step(closure)\n",
        "print(\"lbfgs\",closure().item())\n",
        "t2=time.time()\n",
        "print(\"{:.3}\".format(t2-t1), \" seconds\")"
      ],
      "execution_count": 0,
      "outputs": [
        {
          "output_type": "stream",
          "text": [
            "init 0.04816429689526558\n",
            "lbfgs 0.035028815269470215\n",
            "28.0  seconds\n"
          ],
          "name": "stdout"
        }
      ]
    },
    {
      "cell_type": "code",
      "metadata": {
        "id": "ykEJ58mHmOJ2",
        "colab_type": "code",
        "colab": {}
      },
      "source": [
        "import scipy.stats as si\n",
        "def call_bs(S, K, r, q, T, sigma):\n",
        "#    standard black scholes formula for call\n",
        "    d1 = (np.log(S / K) + (r - q + 0.5 * sigma ** 2) * T) / \\\n",
        "            (sigma * np.sqrt(T))\n",
        "    d2 = (np.log(S / K) + (r - q - 0.5 * sigma ** 2) * T) / \\\n",
        "            (sigma * np.sqrt(T))\n",
        "    call = (S * np.exp(-q * T) * si.norm.cdf(d1, 0.0, 1.0) - \\\n",
        "            K * np.exp(-r * T) * si.norm.cdf(d2, 0.0, 1.0))\n",
        "    return call\n",
        "  \n",
        "def delta_bs(S, K, r, q, T, sigma):\n",
        "#    standard black scholes delta formula for call\n",
        "    d1 = (np.log(S / K) + (r - q + 0.5 * sigma ** 2) * T) / \\\n",
        "            (sigma * np.sqrt(T))\n",
        "    delta =  np.exp(-q * T) * si.norm.cdf(d1, 0.0, 1.0)        \n",
        "    return delta"
      ],
      "execution_count": 0,
      "outputs": []
    },
    {
      "cell_type": "code",
      "metadata": {
        "id": "98sJ7HpBqOD4",
        "colab_type": "code",
        "outputId": "82cb4a24-02a3-4fc0-90e4-c1d9820c7858",
        "colab": {
          "base_uri": "https://localhost:8080/",
          "height": 336
        }
      },
      "source": [
        "import matplotlib.pyplot as plt\n",
        "\n",
        "\n",
        "plt.clf()\n",
        "plt.cla()\n",
        "plt.close()\n",
        "plt.figure(figsize=(8,5))\n",
        "plt.grid(True)\n",
        "\n",
        "tl=[1.0,5.0,10.0,25.0]\n",
        "for tc in tl:\n",
        "  sc=torch.linspace(0.1,10,200,device=device)\n",
        "  tsvc=torch.zeros((200,3),device=device)\n",
        "  tsvc[:,0]=tc\n",
        "  tsvc[:,1]=sc\n",
        "  tsvc[:,2]= 0.1476\n",
        "  d_bs=delta_bs(sc.cpu().numpy(),3.,rf,0,tc,vol)-1\n",
        "  d_nn=-model_delta(tsvc)\n",
        "  plt.plot(sc.cpu().numpy(),d_bs,label=\"bs t=\"+ \"%.1f\" % tc)\n",
        "  plt.plot(sc.cpu().numpy(),d_nn.cpu().view(200).detach().numpy(),\n",
        "           label=\"nn t=\"+ \"%.1f\" % tc)\n",
        "\n",
        "\n",
        "\n",
        "plt.title(\"delta chart\")\n",
        "plt.legend()\n",
        "#plt.savefig(\"test.svg\")\n",
        "plt.show()"
      ],
      "execution_count": 0,
      "outputs": [
        {
          "output_type": "display_data",
          "data": {
            "image/png": "[encoded data removed]",
            "text/plain": [
              "<Figure size 576x360 with 1 Axes>"
            ]
          },
          "metadata": {
            "tags": []
          }
        }
      ]
    },
    {
      "cell_type": "markdown",
      "metadata": {
        "id": "7lk1S3t0N0fZ",
        "colab_type": "text"
      },
      "source": [
        "The delta chart from the delta neural network actually matches up with the Black-Scholes delta relatively well. The volatility assumption for the Black-Scholes delta is based on the variance of log(index_25) distribution. At lower strike, the neural network tend to have slight smaller(more positive) delta. This is consistent with how AAA equity scenario is calibrated. AAA scenario got fatter tails compared to lognormal. "
      ]
    },
    {
      "cell_type": "code",
      "metadata": {
        "id": "NqWfeyEpf_kZ",
        "colab_type": "code",
        "colab": {}
      },
      "source": [
        "def cte98(e):\n",
        "  e=e.reshape(-1)\n",
        "  n=e.size()[0]\n",
        "  k=math.ceil(n*0.02)\n",
        "  l2=e.topk(k,sorted=False).values.mean()\n",
        "  return l2\n",
        "\n",
        "def cte70(e):\n",
        "  e=e.reshape(-1)\n",
        "  n=e.size()[0]\n",
        "  k=math.ceil(n*0.3)\n",
        "  l2=e.topk(k,sorted=False).values.mean()\n",
        "  return l2  "
      ],
      "execution_count": 0,
      "outputs": []
    },
    {
      "cell_type": "code",
      "metadata": {
        "id": "AEhF40AEnfvN",
        "colab_type": "code",
        "colab": {}
      },
      "source": [
        "def print_stat():\n",
        "  #need delta, gamma, chg, chg2 and pv_payout global variable \n",
        "  delta_gl=torch.sum(delta*chg,dim=2)\n",
        "  gamma_gl=torch.sum(gamma*chg2,dim=2)\n",
        "\n",
        "  pre_hedge=pv_payout.std().item()\n",
        "  post_hedge=(delta_gl+gamma_gl-pv_payout).std().item()\n",
        "\n",
        "  print(\"\\n% scenario with payout: \",pv_payout.sign().mean().item())\n",
        "\n",
        "  print(\"\\nstd pv payout, after hedge, effectiveness\")\n",
        "  print(\"{:.3%}\".format(pre_hedge), \"{:.3%}\".format(post_hedge), \\\n",
        "        \"{:.3%}\".format(1-post_hedge/pre_hedge))\n",
        "\n",
        "  print(\"\\nAverage, before and after hedge:\")\n",
        "  print(\"{:.3%}\".format(pv_payout.mean().item()))\n",
        "  print(\"{:.3%}\".format((pv_payout-gamma_gl-delta_gl).mean().item()))\n",
        "\n",
        "  print(\"\\nCTE 70, before and after hedge:\")\n",
        "  print(\"{:.3%}\".format(cte70(pv_payout).item()))\n",
        "  print(\"{:.3%}\".format(cte70(pv_payout-gamma_gl-delta_gl).item()))\n",
        "\n",
        "  print(\"\\nCTE 98, before and after hedge:\")\n",
        "  print(\"{:.3%}\".format(cte98(pv_payout).item()))\n",
        "  print(\"{:.3%}\".format(cte98(pv_payout-gamma_gl-delta_gl).item()))"
      ],
      "execution_count": 0,
      "outputs": []
    },
    {
      "cell_type": "markdown",
      "metadata": {
        "id": "xqd7eyyAMywW",
        "colab_type": "text"
      },
      "source": [
        "Now calculate stats of the hedging result"
      ]
    },
    {
      "cell_type": "code",
      "metadata": {
        "id": "wjVP1GTZ6AiJ",
        "colab_type": "code",
        "outputId": "125bebb1-25c4-4507-c6a6-49e2f7ee9181",
        "colab": {
          "base_uri": "https://localhost:8080/",
          "height": 302
        }
      },
      "source": [
        "delta=model_delta(tsv)\n",
        "delta=-delta.view(N1,N2,T)\n",
        "\n",
        "g = torch.ones_like(delta)\n",
        "gamma, =grad(delta,tsv,grad_outputs=g,create_graph=True)      \n",
        "gamma=gamma[:,:,:,1].view(N1,N2,T)\n",
        "\n",
        "print_stat()"
      ],
      "execution_count": 0,
      "outputs": [
        {
          "output_type": "stream",
          "text": [
            "\n",
            "% scenario with payout:  0.1656494140625\n",
            "\n",
            "std pv payout, after hedge, effectiveness\n",
            "22.192% 3.503% 84.216%\n",
            "\n",
            "Average, before and after hedge:\n",
            "7.887%\n",
            "74.646%\n",
            "\n",
            "CTE 70, before and after hedge:\n",
            "26.285%\n",
            "78.576%\n",
            "\n",
            "CTE 98, before and after hedge:\n",
            "107.910%\n",
            "85.849%\n"
          ],
          "name": "stdout"
        }
      ]
    },
    {
      "cell_type": "markdown",
      "metadata": {
        "id": "TM1RWMdeQHn2",
        "colab_type": "text"
      },
      "source": [
        "The hedge effectiveness is around 85%. \n",
        "\n",
        "The average after hedge is essentially a risk free price of the option. It is a lot higher compared to the unhedged average which is real world.\n",
        "\n",
        "The CTE 70 is worse compared to unhedged case. This is expected since the CTE 70 grows faster than risk free rate. \n",
        "\n",
        "CTE98 actually improved from 1.1 to around 0.85 mostly because 2 percentile of the AAA scenario return grow at a slower rate compared to risk free rate. \n",
        "\n"
      ]
    },
    {
      "cell_type": "markdown",
      "metadata": {
        "id": "BNKXy5gcOzH5",
        "colab_type": "text"
      },
      "source": [
        "### Add CTE98 as training target"
      ]
    },
    {
      "cell_type": "markdown",
      "metadata": {
        "id": "PIOGvkmyJKer",
        "colab_type": "text"
      },
      "source": [
        "The framework is flexible enough we can actually incorporate CTE 98 as a training target directly. \n",
        "\n",
        "CTE 70 doesn't work very well as a training target. The model will ask us to stop hedging completely since 30th percentile of the scenario grows too fast compared to risk free rate."
      ]
    },
    {
      "cell_type": "code",
      "metadata": {
        "colab_type": "code",
        "id": "pJ1_QUPXfdyx",
        "colab": {}
      },
      "source": [
        "cte_delta = torch.nn.Sequential(\n",
        "    torch.nn.Linear(3, 24),\n",
        "    torch.nn.Tanh(),\n",
        "    torch.nn.Linear(24,12),\n",
        "    torch.nn.Tanh(),\n",
        "    torch.nn.Linear(12, 1),\n",
        "    torch.nn.Sigmoid(),\n",
        ")\n",
        "cte_delta = cte_delta.to(device)"
      ],
      "execution_count": 0,
      "outputs": []
    },
    {
      "cell_type": "markdown",
      "metadata": {
        "id": "pLwuGuVNJstx",
        "colab_type": "text"
      },
      "source": [
        "When using CTE98 target directly, the weight update will be calculated based on only a small set of scenarios. And the training speed is slower. So we first train the network with the std target with AdamW for a little bit. Then shift to the CTE 98 target with LBFGS"
      ]
    },
    {
      "cell_type": "code",
      "metadata": {
        "id": "jMYL4S9qA_Kc",
        "colab_type": "code",
        "outputId": "3c3ecefc-8b0b-4e68-92d5-522a13c652eb",
        "colab": {
          "base_uri": "https://localhost:8080/",
          "height": 84
        }
      },
      "source": [
        "import time\n",
        "optimizer = torch.optim.AdamW(cte_delta.parameters(),lr=0.03,\n",
        "                              weight_decay=1e-10,amsgrad=True)\n",
        "t1=time.time()\n",
        "for j in range(30):\n",
        "    for i in range(N1):\n",
        "        optimizer.zero_grad()\n",
        "        tsvi=tsv[i]\n",
        "        delta=-cte_delta(tsvi)\n",
        "# gamma is used to approximate the daily rebalance g/l\n",
        "        g = torch.ones_like(delta)\n",
        "        gamma, =grad(delta,tsvi,grad_outputs=g,create_graph=True)   \n",
        "\n",
        "        delta=delta.view(N2,T)\n",
        "        gamma=gamma[:,:,1].view(N2,T)\n",
        "        delta_gl=torch.sum(delta*chg[i],dim=1)\n",
        "        gamma_gl=torch.sum(gamma*chg2[i],dim=1)\n",
        "\n",
        "        hedged_price=pv_payout[i]-delta_gl-gamma_gl\n",
        "      \n",
        "        loss=hedged_price.std()\n",
        "        loss.backward()\n",
        "        optimizer.step()    \n",
        "    if j%10==0: print(j,loss.item())\n",
        "    t2=time.time()\n",
        "    if t2-t1> 180:\n",
        "      break\n",
        "print(\"{:.3}\".format(t2-t1), \" seconds\")  "
      ],
      "execution_count": 0,
      "outputs": [
        {
          "output_type": "stream",
          "text": [
            "0 0.21814580261707306\n",
            "10 0.046338267624378204\n",
            "20 0.048721086233854294\n",
            "7.55  seconds\n"
          ],
          "name": "stdout"
        }
      ]
    },
    {
      "cell_type": "code",
      "metadata": {
        "id": "CS6P5SsPBOAr",
        "colab_type": "code",
        "outputId": "54b8d1ca-0d54-45f3-c9aa-abad3a89144c",
        "colab": {
          "base_uri": "https://localhost:8080/",
          "height": 67
        }
      },
      "source": [
        "optimizer = torch.optim.LBFGS(cte_delta.parameters(),lr=1.0,\n",
        "                             max_iter=150,line_search_fn =\"strong_wolfe\",\n",
        "                             tolerance_grad=1e-30, tolerance_change=1e-30)\n",
        "def closure():\n",
        "  optimizer.zero_grad()\n",
        "  delta=-cte_delta(tsv)\n",
        "  delta=delta.view(N1,N2,T)\n",
        "  # gamma is used to approximate the daily rebalance g/l\n",
        "  g = torch.ones_like(delta)\n",
        "  gamma, =grad(delta,tsv,grad_outputs=g,create_graph=True)   \n",
        "  gamma=gamma[:,:,:,1].view(N1,N2,T)\n",
        "  delta_gl=torch.sum(delta*chg,dim=2)\n",
        "  gamma_gl=torch.sum(gamma*chg2,dim=2)\n",
        "  hedged_price=pv_payout-delta_gl-gamma_gl\n",
        "  loss=cte98(hedged_price)\n",
        "  loss.backward()  \n",
        "  return loss\n",
        "\n",
        "t1=time.time()\n",
        "print(\"init\",closure().item())\n",
        "optimizer.step(closure)\n",
        "print(\"lbfgs\",closure().item())\n",
        "t2=time.time()\n",
        "print(\"{:.3}\".format(t2-t1), \" seconds\")"
      ],
      "execution_count": 0,
      "outputs": [
        {
          "output_type": "stream",
          "text": [
            "init 0.9288612604141235\n",
            "lbfgs 0.8075775504112244\n",
            "29.6  seconds\n"
          ],
          "name": "stdout"
        }
      ]
    },
    {
      "cell_type": "code",
      "metadata": {
        "colab_type": "code",
        "id": "xi9fEkWJk233",
        "outputId": "ea2014dd-7f2e-4375-e129-67a768a0a8f1",
        "colab": {
          "base_uri": "https://localhost:8080/",
          "height": 336
        }
      },
      "source": [
        "import matplotlib.pyplot as plt\n",
        "\n",
        "\n",
        "plt.clf()\n",
        "plt.cla()\n",
        "plt.close()\n",
        "plt.figure(figsize=(8,5))\n",
        "plt.grid(True)\n",
        "\n",
        "tl=[1,5.0,25.0]\n",
        "for tc in tl:\n",
        "  sc=torch.linspace(0.1,10,200,device=device)\n",
        "  tsvc=torch.zeros((200,3),device=device)\n",
        "  tsvc[:,0]=tc\n",
        "  tsvc[:,1]=sc\n",
        "  tsvc[:,2]= 0.1476\n",
        "  d_cte=-cte_delta(tsvc)\n",
        "  d_nn=-model_delta(tsvc)\n",
        "\n",
        "  plt.plot(sc.cpu().numpy(),d_nn.cpu().view(200).detach().numpy(),\n",
        "           label=\"std t=\"+ \"%.1f\" % tc)\n",
        "\n",
        "  plt.plot(sc.cpu().numpy(),d_cte.cpu().view(200).detach().numpy(),\n",
        "           label=\"cte t=\"+ \"%.1f\" % tc)\n",
        "\n",
        "\n",
        "plt.title(\"delta chart, std target vs cte target\")\n",
        "plt.legend()\n",
        "#plt.savefig(\"test.svg\")\n",
        "plt.show()"
      ],
      "execution_count": 0,
      "outputs": [
        {
          "output_type": "display_data",
          "data": {
            "image/png": "[encoded data removed]",
            "text/plain": [
              "<Figure size 576x360 with 1 Axes>"
            ]
          },
          "metadata": {
            "tags": []
          }
        }
      ]
    },
    {
      "cell_type": "markdown",
      "metadata": {
        "id": "CG4obFcCJ9_V",
        "colab_type": "text"
      },
      "source": [
        "After using CTE as traning target, the delta is smaller(more positive) compared to previous model. This is to take advantage of the build in upward drift of the AAA scenario. It's interesting that the slope of delta curve(gamma) could change direction for very low index levels if there are size of the delta network is bigger. “Be fearful when others are greedy and greedy when others are fearful.” :)"
      ]
    },
    {
      "cell_type": "code",
      "metadata": {
        "colab_type": "code",
        "id": "2SORbZG_0Lzm",
        "outputId": "ec3ab856-4d84-4763-9329-61dd7cde4db3",
        "colab": {
          "base_uri": "https://localhost:8080/",
          "height": 302
        }
      },
      "source": [
        "delta=cte_delta(tsv)\n",
        "delta=-delta.view(N1,N2,T)\n",
        "\n",
        "g = torch.ones_like(delta)\n",
        "gamma, =grad(delta,tsv,grad_outputs=g,create_graph=True)      \n",
        "gamma=gamma[:,:,:,1].view(N1,N2,T)\n",
        "\n",
        "print_stat()"
      ],
      "execution_count": 0,
      "outputs": [
        {
          "output_type": "stream",
          "text": [
            "\n",
            "% scenario with payout:  0.1656494140625\n",
            "\n",
            "std pv payout, after hedge, effectiveness\n",
            "22.192% 4.991% 77.510%\n",
            "\n",
            "Average, before and after hedge:\n",
            "7.887%\n",
            "66.701%\n",
            "\n",
            "CTE 70, before and after hedge:\n",
            "26.285%\n",
            "72.680%\n",
            "\n",
            "CTE 98, before and after hedge:\n",
            "107.910%\n",
            "80.758%\n"
          ],
          "name": "stdout"
        }
      ]
    },
    {
      "cell_type": "markdown",
      "metadata": {
        "id": "YAVYF2FWJfxt",
        "colab_type": "text"
      },
      "source": [
        "The hedge effectiveness decreased as expected. But the CTE98 further improved to around 0.81 compared to std target"
      ]
    },
    {
      "cell_type": "markdown",
      "metadata": {
        "id": "I0MIodGgcbxU",
        "colab_type": "text"
      },
      "source": [
        "### Trade off between CTE70 and CTE98\n"
      ]
    },
    {
      "cell_type": "markdown",
      "metadata": {
        "id": "IMqq0FSpc3Uw",
        "colab_type": "text"
      },
      "source": [
        "We can  use a weight average of CTE70 and CTE98 as target. This way we are optimizing for both captial and reserve"
      ]
    },
    {
      "cell_type": "markdown",
      "metadata": {
        "id": "zrt06kEKN3In",
        "colab_type": "text"
      },
      "source": [
        "First pretrain a model with std target and with AdamW"
      ]
    },
    {
      "cell_type": "code",
      "metadata": {
        "id": "6Tfil1YHci3-",
        "colab_type": "code",
        "colab": {}
      },
      "source": [
        "cte_delta = torch.nn.Sequential(\n",
        "    torch.nn.Linear(3, 24),\n",
        "    torch.nn.Tanh(),\n",
        "    torch.nn.Linear(24,12),\n",
        "    torch.nn.Tanh(),\n",
        "    torch.nn.Linear(12, 1),\n",
        "    torch.nn.Sigmoid(),\n",
        ")\n",
        "cte_delta = cte_delta.to(device)\n",
        "\n",
        "optimizer = torch.optim.AdamW(cte_delta.parameters(),lr=0.03,\n",
        "                              weight_decay=1e-10,amsgrad=True)\n",
        "t1=time.time()\n",
        "for j in range(30):\n",
        "  for i in range(N1):\n",
        "    optimizer.zero_grad()\n",
        "    tsvi=tsv[i]\n",
        "    delta=-cte_delta(tsvi)\n",
        "# gamma is used to approximate the daily rebalance g/l\n",
        "    g = torch.ones_like(delta)\n",
        "    gamma, =grad(delta,tsvi,grad_outputs=g,create_graph=True)   \n",
        "\n",
        "    delta=delta.view(N2,T)\n",
        "    gamma=gamma[:,:,1].view(N2,T)\n",
        "    delta_gl=torch.sum(delta*chg[i],dim=1)\n",
        "    gamma_gl=torch.sum(gamma*chg2[i],dim=1)\n",
        "\n",
        "    hedged_price=pv_payout[i]-delta_gl-gamma_gl\n",
        "  \n",
        "    loss=hedged_price.std()\n",
        "    loss.backward()\n",
        "    optimizer.step()    \n"
      ],
      "execution_count": 0,
      "outputs": []
    },
    {
      "cell_type": "markdown",
      "metadata": {
        "id": "OgAYaP_kN8hl",
        "colab_type": "text"
      },
      "source": [
        "Next, clone the pretrained model. use different split between cte70 and cte98 to train"
      ]
    },
    {
      "cell_type": "code",
      "metadata": {
        "id": "oftsnC4ddnP5",
        "colab_type": "code",
        "outputId": "79b1f7ba-e2cc-4918-d6a7-c5593b08e836",
        "colab": {
          "base_uri": "https://localhost:8080/",
          "height": 202
        }
      },
      "source": [
        "import copy\n",
        "import numpy as np\n",
        "c70=np.zeros(11)\n",
        "c98=np.zeros(11)\n",
        "avg_after=np.zeros(11)\n",
        "he=np.zeros(11)\n",
        "alphas=np.array([.60,.61,.62,.63,.64,.65,.68,.7,.75,.8,1.0])\n",
        "for i in range(11):\n",
        "  print(i)\n",
        "  alpha=alphas[i]\n",
        "  cte_delta2=copy.deepcopy(cte_delta)\n",
        "  optimizer = torch.optim.LBFGS(cte_delta2.parameters(),lr=1.0,\n",
        "                              max_iter=150,line_search_fn =\"strong_wolfe\",\n",
        "                              tolerance_grad=1e-30, tolerance_change=1e-30)\n",
        "  def closure():\n",
        "    optimizer.zero_grad()\n",
        "    delta=-cte_delta2(tsv)\n",
        "    delta=delta.view(N1,N2,T)\n",
        "    # gamma is used to approximate the daily rebalance g/l\n",
        "    g = torch.ones_like(delta)\n",
        "    gamma, =grad(delta,tsv,grad_outputs=g,create_graph=True)   \n",
        "    gamma=gamma[:,:,:,1].view(N1,N2,T)\n",
        "    delta_gl=torch.sum(delta*chg,dim=2)\n",
        "    gamma_gl=torch.sum(gamma*chg2,dim=2)\n",
        "    hedged_price=pv_payout-delta_gl-gamma_gl\n",
        "    loss=cte98(hedged_price)*(alpha)+cte70(hedged_price)*(1-alpha)\n",
        "    loss.backward()  \n",
        "    return loss\n",
        "  optimizer.step(closure)\n",
        "\n",
        "\n",
        "  delta=-cte_delta2(tsv)\n",
        "  delta=delta.view(N1,N2,T)\n",
        "  # gamma is used to approximate the daily rebalance g/l\n",
        "  g = torch.ones_like(delta)\n",
        "  gamma, =grad(delta,tsv,grad_outputs=g,create_graph=True)   \n",
        "  gamma=gamma[:,:,:,1].view(N1,N2,T)\n",
        "  delta_gl=torch.sum(delta*chg,dim=2)\n",
        "  gamma_gl=torch.sum(gamma*chg2,dim=2)\n",
        "  hedged_price=pv_payout-delta_gl-gamma_gl    \n",
        "  avg_after[i]=hedged_price.mean().item()\n",
        "  pre_hedge=pv_payout.std().item()\n",
        "  post_hedge=(delta_gl+gamma_gl-pv_payout).std().item()\n",
        "  he[i]=1-post_hedge/pre_hedge\n",
        "  c98[i]=cte98(hedged_price)\n",
        "  c70[i]=cte70(hedged_price)\n",
        "\n",
        "  "
      ],
      "execution_count": 0,
      "outputs": [
        {
          "output_type": "stream",
          "text": [
            "0\n",
            "1\n",
            "2\n",
            "3\n",
            "4\n",
            "5\n",
            "6\n",
            "7\n",
            "8\n",
            "9\n",
            "10\n"
          ],
          "name": "stdout"
        }
      ]
    },
    {
      "cell_type": "code",
      "metadata": {
        "id": "e-DPYIyTi5Rj",
        "colab_type": "code",
        "outputId": "88383f44-ce7f-46c8-9c2e-f967d5f7b84e",
        "colab": {
          "base_uri": "https://localhost:8080/",
          "height": 370
        }
      },
      "source": [
        "plt.clf()\n",
        "plt.cla()\n",
        "plt.close()\n",
        "plt.figure(figsize=(8,5))\n",
        "plt.grid(True)\n",
        "plt.scatter(he,c98,label=\"cte98\")\n",
        "plt.scatter(he,c70,label=\"cte70\")\n",
        "plt.xlabel(\"hedge effectiveness\")\n",
        "plt.legend()\n",
        "\n"
      ],
      "execution_count": 0,
      "outputs": [
        {
          "output_type": "stream",
          "text": [
            "[-0.020264   -0.01903369 -0.01845026 -0.0406756   0.14548225  0.18868831\n",
            "  0.28440036  0.52881972  0.64858668  0.70732456  0.77567588]\n"
          ],
          "name": "stdout"
        },
        {
          "output_type": "display_data",
          "data": {
            "image/png": "[encoded data removed]",
            "text/plain": [
              "<Figure size 576x360 with 1 Axes>"
            ]
          },
          "metadata": {
            "tags": []
          }
        }
      ]
    },
    {
      "cell_type": "markdown",
      "metadata": {
        "id": "R1P_LwQeUGEW",
        "colab_type": "text"
      },
      "source": [
        "## Conclusion \n",
        "We demostrated \n",
        "\n",
        "* How to hedge under AAA scenario. \n",
        "\n",
        "* A second order approximation for daily rebalance is needed to gain high hedge effectiveness. Monthly rebalance is not good enough\n",
        "\n",
        "* How to hedge to CTE98 target. \n",
        "Train on std target for a little bit. Then switch to CTE98 target. It is also possible to use a blend CTE98 and CTE70 target to train. "
      ]
    }
  ]
}