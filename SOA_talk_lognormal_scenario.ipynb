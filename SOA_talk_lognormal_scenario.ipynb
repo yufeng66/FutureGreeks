{
  "nbformat": 4,
  "nbformat_minor": 0,
  "metadata": {
    "colab": {
      "name": "SOA talk lognormal scenario.ipynb",
      "version": "0.3.2",
      "provenance": [],
      "collapsed_sections": [],
      "toc_visible": true,
      "include_colab_link": true
    },
    "kernelspec": {
      "name": "python3",
      "display_name": "Python 3"
    },
    "accelerator": "GPU"
  },
  "cells": [
    {
      "cell_type": "markdown",
      "metadata": {
        "id": "view-in-github",
        "colab_type": "text"
      },
      "source": [
        "<a href=\"https://colab.research.google.com/github/yufeng66/FutureGreeks/blob/master/SOA_talk_lognormal_scenario.ipynb\" target=\"_parent\"><img src=\"https://colab.research.google.com/assets/colab-badge.svg\" alt=\"Open In Colab\"/></a>"
      ]
    },
    {
      "cell_type": "markdown",
      "metadata": {
        "id": "tjrOtUl5xdlC",
        "colab_type": "text"
      },
      "source": [
        "# Future greek without nested stochastics #"
      ]
    },
    {
      "cell_type": "markdown",
      "metadata": {
        "id": "ZSJBNCRLq4TA",
        "colab_type": "text"
      },
      "source": [
        "\n",
        "## Introduction ##\n",
        "\n",
        "This jupyter notebook is used to illustrate how to calculate future Greeks without nested stochastics. \n",
        "Using a neural network to represent the future Greek is not a new idea. However, previously, we need some kind of approximation of future Greek as training target. With the technique we illustrate in the document, we don’t need to do that.\n",
        "\n",
        "The inputs of the process are:\n",
        "\n",
        "* One set of scenario, risk neural or real world\n",
        "* Cashflows\n",
        "\n",
        "That's it. We **don’t** need nested scenario, or even shocked scenario.\n",
        "\n",
        "A neural network is used to represent the delta. The after hedge financial result is calculated for each scenario. The training target is to get the variance of after hedge result as small as possible.\n",
        "\n",
        "We will use a simple call with lognormal scenarios as an example. The delta calculated by the trained neural network is extremely close to the famed Black Scholes formula. In a sense the neural network rediscovered Black Scholes formula on its own :)\n",
        "\n",
        "Elsewhere we will have a more complicated example: AAA US equity scenario, a VA like put guarantee with high watermark, higher order hedge and CTE as training target etc.\n"
      ]
    },
    {
      "cell_type": "markdown",
      "metadata": {
        "id": "Evy-nu3kF7Vb",
        "colab_type": "text"
      },
      "source": [
        "## The training code\n"
      ]
    },
    {
      "cell_type": "markdown",
      "metadata": {
        "id": "7EFPyTsTxnen",
        "colab_type": "text"
      },
      "source": [
        "We recommand to run the example on Google Colab. It's free. First, make sure there is a GPU. On Google Colab, there are two type of GPU. One is Tesla K80 and the other is Tesla T4. T4 is more than twice than K80 for our training"
      ]
    },
    {
      "cell_type": "code",
      "metadata": {
        "id": "1rRhwo3HfHVt",
        "colab_type": "code",
        "outputId": "744eb54a-ded3-4fad-f95c-ee15059f9c0a",
        "colab": {
          "base_uri": "https://localhost:8080/",
          "height": 302
        }
      },
      "source": [
        "!nvidia-smi"
      ],
      "execution_count": 1,
      "outputs": [
        {
          "output_type": "stream",
          "text": [
            "Fri Sep  6 12:55:40 2019       \n",
            "+-----------------------------------------------------------------------------+\n",
            "| NVIDIA-SMI 430.40       Driver Version: 418.67       CUDA Version: 10.1     |\n",
            "|-------------------------------+----------------------+----------------------+\n",
            "| GPU  Name        Persistence-M| Bus-Id        Disp.A | Volatile Uncorr. ECC |\n",
            "| Fan  Temp  Perf  Pwr:Usage/Cap|         Memory-Usage | GPU-Util  Compute M. |\n",
            "|===============================+======================+======================|\n",
            "|   0  Tesla K80           Off  | 00000000:00:04.0 Off |                    0 |\n",
            "| N/A   46C    P8    28W / 149W |      0MiB / 11441MiB |      0%      Default |\n",
            "+-------------------------------+----------------------+----------------------+\n",
            "                                                                               \n",
            "+-----------------------------------------------------------------------------+\n",
            "| Processes:                                                       GPU Memory |\n",
            "|  GPU       PID   Type   Process name                             Usage      |\n",
            "|=============================================================================|\n",
            "|  No running processes found                                                 |\n",
            "+-----------------------------------------------------------------------------+\n"
          ],
          "name": "stdout"
        }
      ]
    },
    {
      "cell_type": "markdown",
      "metadata": {
        "id": "rCwe_1Y9F-OK",
        "colab_type": "text"
      },
      "source": [
        "Update to the latest pytorch package. Pytorch 1.2 incorporated AdamW optimizer, which is an improvement over the regular Adam. Also LBFGS optimizer incorporates strong wolfe line search algo. LBFGS is faster but memory intensive and not as stable. Our neural network is small enough that LBFGS actually works reasonably well. The warming up with AdamW helped with the stability problem."
      ]
    },
    {
      "cell_type": "code",
      "metadata": {
        "id": "TyXioDzTfMXq",
        "colab_type": "code",
        "outputId": "8e3f6dfa-b82d-443e-b49c-2ab0e9cde67d",
        "colab": {
          "base_uri": "https://localhost:8080/",
          "height": 138
        }
      },
      "source": [
        "!pip3 install torch torchvision --upgrade\n"
      ],
      "execution_count": 2,
      "outputs": [
        {
          "output_type": "stream",
          "text": [
            "Requirement already up-to-date: torch in /usr/local/lib/python3.6/dist-packages (1.2.0)\n",
            "Requirement already up-to-date: torchvision in /usr/local/lib/python3.6/dist-packages (0.4.0)\n",
            "Requirement already satisfied, skipping upgrade: numpy in /usr/local/lib/python3.6/dist-packages (from torch) (1.16.4)\n",
            "Requirement already satisfied, skipping upgrade: six in /usr/local/lib/python3.6/dist-packages (from torchvision) (1.12.0)\n",
            "Requirement already satisfied, skipping upgrade: pillow>=4.1.1 in /usr/local/lib/python3.6/dist-packages (from torchvision) (4.3.0)\n",
            "Requirement already satisfied, skipping upgrade: olefile in /usr/local/lib/python3.6/dist-packages (from pillow>=4.1.1->torchvision) (0.46)\n"
          ],
          "name": "stdout"
        }
      ]
    },
    {
      "cell_type": "code",
      "metadata": {
        "id": "XAD4qIlY8T0t",
        "colab_type": "code",
        "outputId": "39812aef-62e4-41b6-8231-abd589d41de3",
        "colab": {
          "base_uri": "https://localhost:8080/",
          "height": 50
        }
      },
      "source": [
        "import torch\n",
        "print(\"torch version: \", torch.__version__)\n",
        "device = torch.device(\"cuda\" if torch.cuda.is_available() else \"cpu\")\n",
        "print(device)"
      ],
      "execution_count": 3,
      "outputs": [
        {
          "output_type": "stream",
          "text": [
            "torch version:  1.2.0\n",
            "cuda\n"
          ],
          "name": "stdout"
        }
      ]
    },
    {
      "cell_type": "markdown",
      "metadata": {
        "id": "DElk6rlsL2Ba",
        "colab_type": "text"
      },
      "source": [
        "### Scenarios and cashflow \n"
      ]
    },
    {
      "cell_type": "markdown",
      "metadata": {
        "id": "ZOxmOPzmGfqy",
        "colab_type": "text"
      },
      "source": [
        "Parameters: one year (252 day) option. Daily hedging. 16% annualized volatility. The risk free rate is 2%. But the drift of the scenario is set to 0%. **The training can recover risk neural delta with real world scenario.** Depending the cashflow logic, we can manipulate the drift to line up with the strike to improve the model convergence."
      ]
    },
    {
      "cell_type": "code",
      "metadata": {
        "id": "yqHTq3d9GYbT",
        "colab_type": "code",
        "colab": {}
      },
      "source": [
        "d=252      #days of simulation\n",
        "rf=0.02    #risk free rate\n",
        "sigma=.16  #volatility\n",
        "drift=0.0  #drift of the scenario"
      ],
      "execution_count": 0,
      "outputs": []
    },
    {
      "cell_type": "markdown",
      "metadata": {
        "id": "3LTz6glR1ihB",
        "colab_type": "text"
      },
      "source": [
        "64 batch of 1024 scenarios. "
      ]
    },
    {
      "cell_type": "code",
      "metadata": {
        "id": "eimByjx4_9D_",
        "colab_type": "code",
        "colab": {}
      },
      "source": [
        "K1, K2 = 6, 10\n",
        "N1=2**K1   #batch count\n",
        "N2=2**K2   #batch size\n",
        "\n",
        "dt=torch.tensor(1/d,device=device)\n",
        "sq_dt=torch.sqrt(dt)\n",
        "\n",
        "s = torch.randn((N1,N2,d),device=device)\n",
        "idx=torch.empty((N1,N2,d+1),device=device)\n",
        "idx[:,:,0]=1\n",
        "for i in range(d):\n",
        "  idx[:,:,i+1]=idx[:,:,i]*torch.exp((drift-sigma**2/2)*dt+s[:,:,i]*sigma*sq_dt)\n",
        "\n",
        "strike=1\n",
        "payout=torch.clamp(idx[:,:,-1]-strike,min=0.0)\n",
        "t=torch.linspace(0,1,d+1,device=device)\n",
        "disc=torch.exp(-rf*t)\n",
        "disc=disc.repeat(N1,N2,1)\n",
        "pv_payout=payout*disc[:,:,-1]\n",
        "                      \n",
        "chg=idx[:,:,1:]*disc[:,:,1:]-idx[:,:,:-1]*disc[:,:,:-1]\n",
        "#the chg is discounted to time zero already"
      ],
      "execution_count": 0,
      "outputs": []
    },
    {
      "cell_type": "markdown",
      "metadata": {
        "id": "IznbGM8S13yA",
        "colab_type": "text"
      },
      "source": [
        "Format data for training "
      ]
    },
    {
      "cell_type": "code",
      "metadata": {
        "id": "tVsID0lsAjj3",
        "colab_type": "code",
        "colab": {}
      },
      "source": [
        "t=torch.linspace(1,1/d,d,device=device)    #time to maturity\n",
        "t=t.repeat(N1,N2,1)\n",
        "s=idx[:,:,:-1].view(N1,N2,d,1)\n",
        "t=t.view(N1,N2,d,1)\n",
        "ts=torch.cat((t,s),3)"
      ],
      "execution_count": 0,
      "outputs": []
    },
    {
      "cell_type": "markdown",
      "metadata": {
        "id": "THDzKl3719ll",
        "colab_type": "text"
      },
      "source": [
        "### Delta neural network model"
      ]
    },
    {
      "cell_type": "markdown",
      "metadata": {
        "id": "a2Qtr9TpHXX7",
        "colab_type": "text"
      },
      "source": [
        "Here is the delta neural network model.  It has two input, time to maturity and index level. There is only one output: delta. There are two middle layer of 16 and 8 nodes. The count of trainable parameter is less than 200. So it is a very small network by modern standard. The result could be improved slightly with a bigger network say two 32 node middle layers. With more than 5 times the trainable parameters, the speed will decrease, but not by 5 times. "
      ]
    },
    {
      "cell_type": "code",
      "metadata": {
        "id": "K_jK_ySFBNgQ",
        "colab_type": "code",
        "colab": {}
      },
      "source": [
        "model_delta = torch.nn.Sequential(\n",
        "    torch.nn.Linear(2, 16),\n",
        "    torch.nn.Tanh(),\n",
        "    torch.nn.Linear(16,8),\n",
        "    torch.nn.Tanh(),\n",
        "    torch.nn.Linear(8, 1),\n",
        "    torch.nn.Sigmoid(),\n",
        ")\n",
        "model_delta = model_delta.to(device)"
      ],
      "execution_count": 0,
      "outputs": []
    },
    {
      "cell_type": "markdown",
      "metadata": {
        "id": "4xuW2CvXj-5s",
        "colab_type": "text"
      },
      "source": [
        "### Training\n"
      ]
    },
    {
      "cell_type": "markdown",
      "metadata": {
        "id": "V-twVM1ryOqG",
        "colab_type": "text"
      },
      "source": [
        "We will use AdamW optimizer first. Then use LBFGS solver with strong_wolfe line search. AdamW is a more robust optimizer. Given enough time, AdamW tend to converge to a very good solution. LBFGS is a higher order optimizer and tend to converge faster when close to the optimal solution. We will spend similar time with each optimizer. "
      ]
    },
    {
      "cell_type": "code",
      "metadata": {
        "id": "5qADA_CmhBQu",
        "colab_type": "code",
        "outputId": "e31cce43-7d94-405b-ac61-3d5fc0ad82af",
        "colab": {
          "base_uri": "https://localhost:8080/",
          "height": 118
        }
      },
      "source": [
        "import time\n",
        "optimizer = torch.optim.AdamW(model_delta.parameters(),lr=0.03,\n",
        "                              weight_decay=1e-10,amsgrad=True)\n",
        "t1=time.time()\n",
        "for t in range(50):\n",
        "    for i in range(N1):\n",
        "        optimizer.zero_grad()\n",
        "        delta=model_delta(ts[i])\n",
        "        delta=delta.view(N2,d)\n",
        "        asset_gl=torch.sum(delta*chg[i],dim=1)\n",
        "        hedged_price=asset_gl-pv_payout[i]\n",
        "        loss=hedged_price.var()\n",
        "        loss.backward()\n",
        "        optimizer.step()    \n",
        "    if t%10==0: print(t,loss.item())\n",
        "t2=time.time()\n",
        "print(t2-t1)"
      ],
      "execution_count": 8,
      "outputs": [
        {
          "output_type": "stream",
          "text": [
            "0 0.00013553684402722865\n",
            "10 1.6331339793396182e-05\n",
            "20 1.3296870747581124e-05\n",
            "30 1.330261420662282e-05\n",
            "40 1.3888306057197042e-05\n",
            "33.822267293930054\n"
          ],
          "name": "stdout"
        }
      ]
    },
    {
      "cell_type": "code",
      "metadata": {
        "id": "tCElP9-uhyXZ",
        "colab_type": "code",
        "outputId": "8156edd8-4cbe-486c-e46e-c47e7379523f",
        "colab": {
          "base_uri": "https://localhost:8080/",
          "height": 67
        }
      },
      "source": [
        "optimizer = torch.optim.LBFGS(model_delta.parameters(),lr=1.0,\n",
        "                             max_iter=50,line_search_fn =\"strong_wolfe\",\n",
        "                             tolerance_grad=1e-30, tolerance_change=1e-30)\n",
        "\n",
        "def closure():\n",
        "  optimizer.zero_grad()\n",
        "  loss=0\n",
        "  for i in range(N1):\n",
        "    delta=model_delta(ts[i])\n",
        "    delta=delta.view(N2,d)\n",
        "    asset_gl=torch.sum(delta*chg[i],dim=1)\n",
        "    hedged_price=asset_gl-pv_payout[i]\n",
        "    loss=loss+hedged_price.var()\n",
        "  loss.backward()\n",
        "  return loss  \n",
        "\n",
        "t1=time.time()\n",
        "print(\"init\",closure().item())\n",
        "optimizer.step(closure)\n",
        "print(\"lbfgs\",closure().item())\n",
        "t2=time.time()\n",
        "print(t2-t1)"
      ],
      "execution_count": 9,
      "outputs": [
        {
          "output_type": "stream",
          "text": [
            "init 0.0009090783423744142\n",
            "lbfgs 0.0007885933737270534\n",
            "35.49575877189636\n"
          ],
          "name": "stdout"
        }
      ]
    },
    {
      "cell_type": "markdown",
      "metadata": {
        "id": "WaiiNjA-ycV0",
        "colab_type": "text"
      },
      "source": [
        "## Comparison of neural network detla to Black Scholes delta"
      ]
    },
    {
      "cell_type": "markdown",
      "metadata": {
        "id": "AEE6H7JQyryc",
        "colab_type": "text"
      },
      "source": [
        "Standard Black Scholes formulas for call"
      ]
    },
    {
      "cell_type": "code",
      "metadata": {
        "id": "Zr4FMKrnqTY1",
        "colab_type": "code",
        "colab": {}
      },
      "source": [
        "import scipy.stats as si\n",
        "def call_bs(S, K, r, q, T, sigma):\n",
        "#    standard black scholes formula for call\n",
        "    d1 = (np.log(S / K) + (r - q + 0.5 * sigma ** 2) * T) / \\\n",
        "            (sigma * np.sqrt(T))\n",
        "    d2 = (np.log(S / K) + (r - q - 0.5 * sigma ** 2) * T) / \\\n",
        "            (sigma * np.sqrt(T))\n",
        "    call = (S * np.exp(-q * T) * si.norm.cdf(d1, 0.0, 1.0) - \\\n",
        "            K * np.exp(-r * T) * si.norm.cdf(d2, 0.0, 1.0))\n",
        "    return call\n",
        "  \n",
        "def delta_bs(S, K, r, q, T, sigma):\n",
        "#    standard black scholes delta formula for call\n",
        "    d1 = (np.log(S / K) + (r - q + 0.5 * sigma ** 2) * T) / \\\n",
        "            (sigma * np.sqrt(T))\n",
        "    delta =  np.exp(-q * T) * si.norm.cdf(d1, 0.0, 1.0)        \n",
        "    return delta"
      ],
      "execution_count": 0,
      "outputs": []
    },
    {
      "cell_type": "markdown",
      "metadata": {
        "id": "nMQKQJ_Eyw0q",
        "colab_type": "text"
      },
      "source": [
        "Chart the difference"
      ]
    },
    {
      "cell_type": "code",
      "metadata": {
        "id": "98sJ7HpBqOD4",
        "colab_type": "code",
        "outputId": "bc98ef80-06d6-4472-a25b-e0c30e682d07",
        "colab": {
          "base_uri": "https://localhost:8080/",
          "height": 336
        }
      },
      "source": [
        "import matplotlib.pyplot as plt\n",
        "import numpy as np\n",
        "\n",
        "plt.clf()\n",
        "plt.cla()\n",
        "plt.close()\n",
        "plt.figure(figsize=(8,5))\n",
        "plt.grid(True)\n",
        "\n",
        "tl=[.004,.5,1.0]\n",
        "for t in tl:\n",
        "  s=torch.linspace(0.5,1.5,100,device=device)\n",
        "  tsc=torch.zeros((100,2),device=device)\n",
        "  tsc[:,0]=t\n",
        "  tsc[:,1]=s\n",
        "  d_bs=delta_bs(s.cpu().numpy(),1,rf,0,t,sigma)\n",
        "  d_nn=model_delta(tsc)\n",
        "  plt.plot(s.cpu().numpy(),d_bs,label=\"bs t=\"+ \"%.3f\" % t)\n",
        "  plt.plot(s.cpu().numpy(),d_nn.cpu().view(100).detach().numpy(),\n",
        "           label=\"nn t=\"+ \"%.3f\" % t)\n",
        "\n",
        "\n",
        "\n",
        "plt.title(\"delta chart\")\n",
        "plt.legend()\n",
        "#plt.savefig(\"test.svg\")\n",
        "plt.show()"
      ],
      "execution_count": 11,
      "outputs": [
        {
          "output_type": "display_data",
          "data": {
            "image/png": "[encoded data removed]",
            "text/plain": [
              "<Figure size 576x360 with 1 Axes>"
            ]
          },
          "metadata": {
            "tags": []
          }
        }
      ]
    },
    {
      "cell_type": "markdown",
      "metadata": {
        "id": "ADfw4qqxy1Cq",
        "colab_type": "text"
      },
      "source": [
        "Typically we should see the neural network line and Black Scholes line  right on top of each other. For t=0.004 (1 day before the expiration) the slope of the delta curve(gamma) is extremely steep. Very often the neural network delta is not as steep. At t=1, the neural network only saw one index level at 1. But typically the neural network delta matches Black Scholes delta over a pretty broad region. This means the model extrapolates well and overfitting is probably not that big a problem."
      ]
    },
    {
      "cell_type": "markdown",
      "metadata": {
        "id": "bcTFBR0Ss9NC",
        "colab_type": "text"
      },
      "source": [
        "##Validation"
      ]
    },
    {
      "cell_type": "markdown",
      "metadata": {
        "id": "nmQIX6PetMy7",
        "colab_type": "text"
      },
      "source": [
        "Next, we calculate the hedge effectiveness of training scenario set and a seperate validation scenario set. "
      ]
    },
    {
      "cell_type": "code",
      "metadata": {
        "id": "dw8vsTBawEyt",
        "colab_type": "code",
        "outputId": "b8dfa8a7-35c8-432e-9ba7-121971208fea",
        "colab": {
          "base_uri": "https://localhost:8080/",
          "height": 50
        }
      },
      "source": [
        "import numpy as np\n",
        "before_hedge=np.zeros(N1)\n",
        "after_hedge=np.zeros(N1)\n",
        "for i in range(N1):\n",
        "  delta=model_delta(ts[i])\n",
        "  delta=delta.view(N2,d)\n",
        "  asset_gl=torch.sum(delta*chg[i],dim=1)\n",
        "  hedged_price=asset_gl-pv_payout[i]\n",
        "  loss=hedged_price.var()\n",
        "  before_hedge[i]=pv_payout[i].std().cpu().item()\n",
        "  after_hedge[i]=hedged_price.std().cpu().item()\n",
        "he=1-after_hedge/before_hedge\n",
        "print(\"median hedge effectiveness, training set\")\n",
        "print(\"{:.2%}\".format(np.median(he)))"
      ],
      "execution_count": 12,
      "outputs": [
        {
          "output_type": "stream",
          "text": [
            "median hedge effectiveness, training set\n",
            "96.53%\n"
          ],
          "name": "stdout"
        }
      ]
    },
    {
      "cell_type": "markdown",
      "metadata": {
        "id": "0Za5OTPx2Lvn",
        "colab_type": "text"
      },
      "source": [
        "Generate another set of scenario for validation"
      ]
    },
    {
      "cell_type": "code",
      "metadata": {
        "id": "iQ8q_nG8tBx3",
        "colab_type": "code",
        "outputId": "cc9366c0-769c-4275-f9dd-123a78dd8a07",
        "colab": {
          "base_uri": "https://localhost:8080/",
          "height": 50
        }
      },
      "source": [
        "s = torch.randn((N1,N2,d),device=device)\n",
        "idx=torch.empty((N1,N2,d+1),device=device)\n",
        "idx[:,:,0]=1\n",
        "for i in range(d):\n",
        "  idx[:,:,i+1]=idx[:,:,i]*torch.exp((drift-sigma**2/2)*dt+s[:,:,i]*sigma*sq_dt)\n",
        "\n",
        "strike=1\n",
        "payout=torch.clamp(idx[:,:,-1]-strike,min=0.0)\n",
        "\n",
        "t=torch.linspace(0,1,d+1,device=device)\n",
        "disc=torch.exp(-rf*t)\n",
        "disc=disc.repeat(N1,N2,1)\n",
        "pv_payout=payout*disc[:,:,-1]\n",
        "                     \n",
        "chg=idx[:,:,1:]*disc[:,:,1:]-idx[:,:,:-1]*disc[:,:,:-1]\n",
        "\n",
        "t=torch.linspace(1,1/d,d,device=device)    #time to maturity\n",
        "t=t.repeat(N1,N2,1)\n",
        "s=idx[:,:,:-1].view(N1,N2,d,1)\n",
        "t=t.view(N1,N2,d,1)\n",
        "ts=torch.cat((t,s),3)\n",
        "\n",
        "before_hedge=np.zeros(N1)\n",
        "after_hedge=np.zeros(N1)\n",
        "for i in range(N1):\n",
        "  delta=model_delta(ts[i])\n",
        "  delta=delta.view(N2,d)\n",
        "  asset_gl=torch.sum(delta*chg[i],dim=1)\n",
        "  hedged_price=asset_gl-pv_payout[i]\n",
        "  loss=hedged_price.var()\n",
        "  before_hedge[i]=pv_payout[i].std().cpu().item()\n",
        "  after_hedge[i]=hedged_price.std().cpu().item()\n",
        "he=1-after_hedge/before_hedge\n",
        "print(\"median hedge effectiveness, validation set\")\n",
        "print(\"{:.2%}\".format(np.median(he)))"
      ],
      "execution_count": 13,
      "outputs": [
        {
          "output_type": "stream",
          "text": [
            "median hedge effectiveness, validation set\n",
            "96.52%\n"
          ],
          "name": "stdout"
        }
      ]
    },
    {
      "cell_type": "markdown",
      "metadata": {
        "id": "VaU_UWmq30BD",
        "colab_type": "text"
      },
      "source": [
        "Typically the two hedge effectiveness are pretty close to each other. Both at around 96.5%. This further confirms we are not overfitting to the scenarios"
      ]
    },
    {
      "cell_type": "markdown",
      "metadata": {
        "id": "JdGHGYxT38aL",
        "colab_type": "text"
      },
      "source": [
        "## Discussion"
      ]
    },
    {
      "cell_type": "markdown",
      "metadata": {
        "id": "BF6VNHc9OGEk",
        "colab_type": "text"
      },
      "source": [
        "Here we studied how to use a neural network to approximate the delta of a call option over the life the option. \n",
        "\n",
        "We only need very limited input to the process: a single set of scenario and cash flows. And we don’t really need any prior knowledge of financial mathematics or stochastic calculus. \n",
        "\n",
        "The delta is solved by maximizing the hedge effectiveness of the delta hedge strategy. There are literature shows Black-Scholes formula delta will produce the highest possible hedge effectiveness. And it is confirmed by our experiment. The delta from the solving process is extremely close to the Black-Scholes delta.\n",
        "\n",
        "\n",
        "One implication is it’s now possible calculate the delta on each node along each path, giving scenario set and cash for a block of variable annuity.\n",
        "\n",
        "There are several considering when applying this technique to AAA scenario:\n",
        "* Monthly rebalancing is not good enough a delta hedge. We need to either model a gamma hedge asset and/or an approximation of daily rebalancing. \n",
        "* Additional input to the neural network is needed for feature such as high watermark etc.\n",
        "* It’s possible to add CTE as one of the optimizing target. Using CTE directly as the only target typically doesn’t work very well.\n",
        "* The hedge effectiveness will be lower because the randomness in the volatility is difficult to hedge. Also because of this, the hedge effectiveness along a path might be even lower.\n",
        "\n",
        "One limitation of the approaches are:\n",
        "\n",
        "Reproducibility. Because of the natural of the neural network training technique, the resulting delta function tend to slightly different in the end. But this is partially mitigated by the similarly high hedge effectiveness, which means the slightly different delta probably doesn’t matter that much in practice\n",
        "\n"
      ]
    },
    {
      "cell_type": "markdown",
      "metadata": {
        "id": "MPU1zo8032MS",
        "colab_type": "text"
      },
      "source": [
        "## Conclusion"
      ]
    },
    {
      "cell_type": "markdown",
      "metadata": {
        "id": "Ucu_gSSO340P",
        "colab_type": "text"
      },
      "source": [
        "We demonstrated a method to train a neural network as a proxy of delta of financial options and discussed implication applying this method to AAA scenario and variable annuity cashflow. "
      ]
    }
  ]
}