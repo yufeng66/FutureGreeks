{
  "nbformat": 4,
  "nbformat_minor": 0,
  "metadata": {
    "colab": {
      "name": "SOA talk lognormal scenario.ipynb",
      "version": "0.3.2",
      "provenance": [],
      "collapsed_sections": [],
      "include_colab_link": true
    },
    "kernelspec": {
      "name": "python3",
      "display_name": "Python 3"
    },
    "accelerator": "GPU"
  },
  "cells": [
    {
      "cell_type": "markdown",
      "metadata": {
        "id": "view-in-github",
        "colab_type": "text"
      },
      "source": [
        "<a href=\"https://colab.research.google.com/github/yufeng66/FutureGreeks/blob/master/SOA_talk_lognormal_scenario.ipynb\" target=\"_parent\"><img src=\"https://colab.research.google.com/assets/colab-badge.svg\" alt=\"Open In Colab\"/></a>"
      ]
    },
    {
      "cell_type": "markdown",
      "metadata": {
        "id": "Evy-nu3kF7Vb",
        "colab_type": "text"
      },
      "source": [
        "First, make sure there is a GPU. On Google Colab, there are two type of GPU. One is Tesla K80 and the other is Tesla T4. T4 is more than twice as fast for our training"
      ]
    },
    {
      "cell_type": "code",
      "metadata": {
        "id": "1rRhwo3HfHVt",
        "colab_type": "code",
        "outputId": "5025994b-e9aa-41b2-c59d-0e912d347bbf",
        "colab": {
          "base_uri": "https://localhost:8080/",
          "height": 298
        }
      },
      "source": [
        "!nvidia-smi"
      ],
      "execution_count": 41,
      "outputs": [
        {
          "output_type": "stream",
          "text": [
            "Tue Aug 27 22:29:03 2019       \n",
            "+-----------------------------------------------------------------------------+\n",
            "| NVIDIA-SMI 430.40       Driver Version: 418.67       CUDA Version: 10.1     |\n",
            "|-------------------------------+----------------------+----------------------+\n",
            "| GPU  Name        Persistence-M| Bus-Id        Disp.A | Volatile Uncorr. ECC |\n",
            "| Fan  Temp  Perf  Pwr:Usage/Cap|         Memory-Usage | GPU-Util  Compute M. |\n",
            "|===============================+======================+======================|\n",
            "|   0  Tesla K80           Off  | 00000000:00:04.0 Off |                    0 |\n",
            "| N/A   33C    P0    54W / 149W |   1139MiB / 11441MiB |      0%      Default |\n",
            "+-------------------------------+----------------------+----------------------+\n",
            "                                                                               \n",
            "+-----------------------------------------------------------------------------+\n",
            "| Processes:                                                       GPU Memory |\n",
            "|  GPU       PID   Type   Process name                             Usage      |\n",
            "|=============================================================================|\n",
            "+-----------------------------------------------------------------------------+\n"
          ],
          "name": "stdout"
        }
      ]
    },
    {
      "cell_type": "markdown",
      "metadata": {
        "id": "rCwe_1Y9F-OK",
        "colab_type": "text"
      },
      "source": [
        "Update to the latest pytorch package. Pytorch 1.2 incorporated AdamW optimizer, which is an improvement over the regular Adam. "
      ]
    },
    {
      "cell_type": "code",
      "metadata": {
        "id": "TyXioDzTfMXq",
        "colab_type": "code",
        "outputId": "d47ed959-72af-42f2-911c-91118e19a0db",
        "colab": {
          "base_uri": "https://localhost:8080/",
          "height": 142
        }
      },
      "source": [
        "!pip3 install torch torchvision --upgrade\n"
      ],
      "execution_count": 42,
      "outputs": [
        {
          "output_type": "stream",
          "text": [
            "Requirement already up-to-date: torch in /usr/local/lib/python3.6/dist-packages (1.2.0)\n",
            "Requirement already up-to-date: torchvision in /usr/local/lib/python3.6/dist-packages (0.4.0)\n",
            "Requirement already satisfied, skipping upgrade: numpy in /usr/local/lib/python3.6/dist-packages (from torch) (1.16.4)\n",
            "Requirement already satisfied, skipping upgrade: six in /usr/local/lib/python3.6/dist-packages (from torchvision) (1.12.0)\n",
            "Requirement already satisfied, skipping upgrade: pillow>=4.1.1 in /usr/local/lib/python3.6/dist-packages (from torchvision) (4.3.0)\n",
            "Requirement already satisfied, skipping upgrade: olefile in /usr/local/lib/python3.6/dist-packages (from pillow>=4.1.1->torchvision) (0.46)\n"
          ],
          "name": "stdout"
        }
      ]
    },
    {
      "cell_type": "code",
      "metadata": {
        "id": "XAD4qIlY8T0t",
        "colab_type": "code",
        "outputId": "cb1bcc14-ac67-4630-df72-91ea6a98bf75",
        "colab": {
          "base_uri": "https://localhost:8080/",
          "height": 52
        }
      },
      "source": [
        "\n",
        "import torch\n",
        "print(\"torch version: \", torch.__version__)\n",
        "device = torch.device(\"cuda\" if torch.cuda.is_available() else \"cpu\")\n",
        "print(device)"
      ],
      "execution_count": 43,
      "outputs": [
        {
          "output_type": "stream",
          "text": [
            "torch version:  1.2.0\n",
            "cuda\n"
          ],
          "name": "stdout"
        }
      ]
    },
    {
      "cell_type": "markdown",
      "metadata": {
        "id": "ZOxmOPzmGfqy",
        "colab_type": "text"
      },
      "source": [
        "Parameters: one year (252 day) option. Daily hedging. 16% annualized volatility. The risk free rate is 2%. But the drift of the scenario is set to 0%. **The training can recover risk neural delta with real world scenario.**"
      ]
    },
    {
      "cell_type": "code",
      "metadata": {
        "id": "yqHTq3d9GYbT",
        "colab_type": "code",
        "colab": {}
      },
      "source": [
        "d=252      #days of simulation\n",
        "rf=0.02    #risk free rate\n",
        "sigma=.16  #volatility\n",
        "drift=0.0  #drift of the scenario"
      ],
      "execution_count": 0,
      "outputs": []
    },
    {
      "cell_type": "markdown",
      "metadata": {
        "id": "DElk6rlsL2Ba",
        "colab_type": "text"
      },
      "source": [
        "Generate scenarios for the training.  64 batch. 1024 scenario per batch"
      ]
    },
    {
      "cell_type": "code",
      "metadata": {
        "id": "eimByjx4_9D_",
        "colab_type": "code",
        "colab": {}
      },
      "source": [
        "K1, K2 = 6, 10\n",
        "N1=2**K1   #batch count\n",
        "N2=2**K2   #batch size\n",
        "\n",
        "dt=torch.tensor(1/d,device=device)\n",
        "sq_dt=torch.sqrt(dt)\n",
        "\n",
        "s = torch.randn((N1,N2,d),device=device)\n",
        "idx=torch.empty((N1,N2,d+1),device=device)\n",
        "idx[:,:,0]=1\n",
        "for i in range(d):\n",
        "    idx[:,:,i+1]=idx[:,:,i]*torch.exp((drift-sigma**2/2)*dt+s[:,:,i]*sigma*sq_dt)\n",
        "\n",
        "strike=1\n",
        "payout=torch.clamp(idx[:,:,-1]-strike,min=0.0)\n",
        "\n",
        "\n",
        "t=torch.linspace(0,1,d+1,device=device)\n",
        "disc=torch.exp(-rf*t)\n",
        "disc=disc.repeat(N1,N2,1)\n",
        "pv_payout=payout*disc[:,:,-1]\n",
        "                      \n",
        "chg=idx[:,:,1:]*disc[:,:,1:]-idx[:,:,:-1]*disc[:,:,:-1]\n",
        "#the chg is discounted to time zero already\n"
      ],
      "execution_count": 0,
      "outputs": []
    },
    {
      "cell_type": "code",
      "metadata": {
        "id": "tVsID0lsAjj3",
        "colab_type": "code",
        "colab": {}
      },
      "source": [
        "t=torch.linspace(1,1/d,d,device=device)    #time to maturity\n",
        "t=t.repeat(N1,N2,1)\n",
        "s=idx[:,:,:-1].view(N1,N2,d,1)\n",
        "t=t.view(N1,N2,d,1)\n",
        "ts=torch.cat((t,s),3)"
      ],
      "execution_count": 0,
      "outputs": []
    },
    {
      "cell_type": "markdown",
      "metadata": {
        "id": "a2Qtr9TpHXX7",
        "colab_type": "text"
      },
      "source": [
        "Here is the delta model.  It has two input, time to maturity and index level. There is only one output: delta. There are two middle layer of 32 node each. The count of trainable parameter is around one thousand. A much smaller network with around 200 parameters can produce pretty good but slightly accurate delta curve"
      ]
    },
    {
      "cell_type": "code",
      "metadata": {
        "id": "K_jK_ySFBNgQ",
        "colab_type": "code",
        "colab": {}
      },
      "source": [
        "model_delta = torch.nn.Sequential(\n",
        "    torch.nn.Linear(2, 16),\n",
        "    torch.nn.Tanh(),\n",
        "    torch.nn.Linear(16,8),\n",
        "    torch.nn.Tanh(),\n",
        "    torch.nn.Linear(8, 1),\n",
        "    torch.nn.Sigmoid(),\n",
        ")\n",
        "model_delta = model_delta.to(device)"
      ],
      "execution_count": 0,
      "outputs": []
    },
    {
      "cell_type": "code",
      "metadata": {
        "id": "SmZiponyBfom",
        "colab_type": "code",
        "colab": {
          "base_uri": "https://localhost:8080/",
          "height": 386
        },
        "outputId": "553882a4-d0c9-46f6-b7a8-7320d5498205"
      },
      "source": [
        "import time\n",
        "optimizer = torch.optim.AdamW(model_delta.parameters(),lr=0.02,\n",
        "                              weight_decay=1e-5,amsgrad=True)\n",
        "t1=time.time()\n",
        "for t in range(200):\n",
        "    for i in range(N1):\n",
        "        optimizer.zero_grad()\n",
        "        delta=model_delta(ts[i])\n",
        "        delta=delta.view(N2,d)\n",
        "        asset_gl=torch.sum(delta*chg[i],dim=1)\n",
        "        hedged_price=asset_gl-pv_payout[i]\n",
        "        loss=hedged_price.var()\n",
        "        loss.backward()\n",
        "        optimizer.step()    \n",
        "    if t%10==0: print(t,loss.item())\n",
        "t2=time.time()\n",
        "print(t2-t1)"
      ],
      "execution_count": 48,
      "outputs": [
        {
          "output_type": "stream",
          "text": [
            "0 0.00010712207586038858\n",
            "10 1.567966683069244e-05\n",
            "20 1.3331619811651763e-05\n",
            "30 1.2811794476874638e-05\n",
            "40 1.2275519111426547e-05\n",
            "50 1.187951238534879e-05\n",
            "60 1.202188286697492e-05\n",
            "70 1.1877350516442675e-05\n",
            "80 1.1623673344729468e-05\n",
            "90 1.1614175491558854e-05\n",
            "100 1.1735412954294588e-05\n",
            "110 1.1915562936337665e-05\n",
            "120 1.2043651622661855e-05\n",
            "130 1.2080757187504787e-05\n",
            "140 1.1822490705526434e-05\n",
            "150 1.1487311894597951e-05\n",
            "160 1.1369260391802527e-05\n",
            "170 1.1317228199914098e-05\n",
            "180 1.1946959602937568e-05\n",
            "190 1.2169673027528916e-05\n",
            "132.0451626777649\n"
          ],
          "name": "stdout"
        }
      ]
    },
    {
      "cell_type": "code",
      "metadata": {
        "id": "Zr4FMKrnqTY1",
        "colab_type": "code",
        "colab": {}
      },
      "source": [
        "import scipy.stats as si\n",
        "def call_bs(S, K, r, q, T, sigma):\n",
        "#    standard black scholes formula for call\n",
        "    d1 = (np.log(S / K) + (r - q + 0.5 * sigma ** 2) * T) / \\\n",
        "            (sigma * np.sqrt(T))\n",
        "    d2 = (np.log(S / K) + (r - q - 0.5 * sigma ** 2) * T) / \\\n",
        "            (sigma * np.sqrt(T))\n",
        "    call = (S * np.exp(-q * T) * si.norm.cdf(d1, 0.0, 1.0) - \\\n",
        "            K * np.exp(-r * T) * si.norm.cdf(d2, 0.0, 1.0))\n",
        "    return call\n",
        "  \n",
        "def delta_bs(S, K, r, q, T, sigma):\n",
        "#    standard black scholes delta formula for call\n",
        "    d1 = (np.log(S / K) + (r - q + 0.5 * sigma ** 2) * T) / \\\n",
        "            (sigma * np.sqrt(T))\n",
        "    delta =  np.exp(-q * T) * si.norm.cdf(d1, 0.0, 1.0)        \n",
        "    return delta"
      ],
      "execution_count": 0,
      "outputs": []
    },
    {
      "cell_type": "code",
      "metadata": {
        "id": "98sJ7HpBqOD4",
        "colab_type": "code",
        "colab": {
          "base_uri": "https://localhost:8080/",
          "height": 336
        },
        "outputId": "9fa7fb06-63f8-4373-ad0d-e7d3d5106cbd"
      },
      "source": [
        "import matplotlib.pyplot as plt\n",
        "import numpy as np\n",
        "\n",
        "plt.clf()\n",
        "plt.cla()\n",
        "plt.close()\n",
        "plt.figure(figsize=(8,5))\n",
        "plt.grid(True)\n",
        "\n",
        "tl=[.004,.5,1.0]\n",
        "for t in tl:\n",
        "  s=torch.linspace(0.5,1.5,100,device=device)\n",
        "  ts=torch.zeros((100,2),device=device)\n",
        "  ts[:,0]=t\n",
        "  ts[:,1]=s\n",
        "  d_bs=delta_bs(s.cpu().numpy(),1,rf,0,t,sigma)\n",
        "  d_nn=model_delta(ts)\n",
        "  plt.plot(s.cpu().numpy(),d_bs,label=\"bs t=\"+ \"%.3f\" % t)\n",
        "  plt.plot(s.cpu().numpy(),d_nn.cpu().view(100).detach().numpy(),\n",
        "           label=\"nn t=\"+ \"%.3f\" % t)\n",
        "\n",
        "\n",
        "\n",
        "plt.title(\"delta chart\")\n",
        "plt.legend()\n",
        "#plt.savefig(\"test.svg\")\n",
        "plt.show()"
      ],
      "execution_count": 50,
      "outputs": [
        {
          "output_type": "display_data",
          "data": {
            "image/png": "[encoded data removed]",
            "text/plain": [
              "<Figure size 576x360 with 1 Axes>"
            ]
          },
          "metadata": {
            "tags": []
          }
        }
      ]
    }
  ]
}