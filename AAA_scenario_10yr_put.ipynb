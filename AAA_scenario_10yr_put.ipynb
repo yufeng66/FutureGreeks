{
  "nbformat": 4,
  "nbformat_minor": 0,
  "metadata": {
    "colab": {
      "name": "AAA scenario 10yr put.ipynb",
      "provenance": [],
      "collapsed_sections": [],
      "include_colab_link": true
    },
    "kernelspec": {
      "name": "python3",
      "display_name": "Python 3"
    },
    "accelerator": "GPU"
  },
  "cells": [
    {
      "cell_type": "markdown",
      "metadata": {
        "id": "view-in-github",
        "colab_type": "text"
      },
      "source": [
        "<a href=\"https://colab.research.google.com/github/yufeng66/FutureGreeks/blob/master/AAA_scenario_10yr_put.ipynb\" target=\"_parent\"><img src=\"https://colab.research.google.com/assets/colab-badge.svg\" alt=\"Open In Colab\"/></a>"
      ]
    },
    {
      "cell_type": "code",
      "metadata": {
        "id": "hzjxO_CHnydR",
        "colab_type": "code",
        "outputId": "7b8f1ef1-2e35-4b1c-d0eb-ead43c4dae9e",
        "colab": {
          "base_uri": "https://localhost:8080/",
          "height": 316
        }
      },
      "source": [
        "!nvidia-smi"
      ],
      "execution_count": 1,
      "outputs": [
        {
          "output_type": "stream",
          "text": [
            "Wed Sep 18 22:40:57 2019       \n",
            "+-----------------------------------------------------------------------------+\n",
            "| NVIDIA-SMI 430.40       Driver Version: 418.67       CUDA Version: 10.1     |\n",
            "|-------------------------------+----------------------+----------------------+\n",
            "| GPU  Name        Persistence-M| Bus-Id        Disp.A | Volatile Uncorr. ECC |\n",
            "| Fan  Temp  Perf  Pwr:Usage/Cap|         Memory-Usage | GPU-Util  Compute M. |\n",
            "|===============================+======================+======================|\n",
            "|   0  Tesla T4            Off  | 00000000:00:04.0 Off |                    0 |\n",
            "| N/A   66C    P8    10W /  70W |      0MiB / 15079MiB |      0%      Default |\n",
            "+-------------------------------+----------------------+----------------------+\n",
            "                                                                               \n",
            "+-----------------------------------------------------------------------------+\n",
            "| Processes:                                                       GPU Memory |\n",
            "|  GPU       PID   Type   Process name                             Usage      |\n",
            "|=============================================================================|\n",
            "|  No running processes found                                                 |\n",
            "+-----------------------------------------------------------------------------+\n"
          ],
          "name": "stdout"
        }
      ]
    },
    {
      "cell_type": "code",
      "metadata": {
        "id": "cNTtAJKloDNR",
        "colab_type": "code",
        "outputId": "1a6e1498-a09d-42a5-be3a-14fd0d69bc2e",
        "colab": {
          "base_uri": "https://localhost:8080/",
          "height": 142
        }
      },
      "source": [
        "!pip3 install torch torchvision --upgrade"
      ],
      "execution_count": 2,
      "outputs": [
        {
          "output_type": "stream",
          "text": [
            "Requirement already up-to-date: torch in /usr/local/lib/python3.6/dist-packages (1.2.0)\n",
            "Requirement already up-to-date: torchvision in /usr/local/lib/python3.6/dist-packages (0.4.0)\n",
            "Requirement already satisfied, skipping upgrade: numpy in /usr/local/lib/python3.6/dist-packages (from torch) (1.16.5)\n",
            "Requirement already satisfied, skipping upgrade: pillow>=4.1.1 in /usr/local/lib/python3.6/dist-packages (from torchvision) (4.3.0)\n",
            "Requirement already satisfied, skipping upgrade: six in /usr/local/lib/python3.6/dist-packages (from torchvision) (1.12.0)\n",
            "Requirement already satisfied, skipping upgrade: olefile in /usr/local/lib/python3.6/dist-packages (from pillow>=4.1.1->torchvision) (0.46)\n"
          ],
          "name": "stdout"
        }
      ]
    },
    {
      "cell_type": "code",
      "metadata": {
        "id": "f3TUUYE3oE4I",
        "colab_type": "code",
        "outputId": "f7f5f15e-1411-4676-e16c-b3d3c37aaefe",
        "colab": {
          "base_uri": "https://localhost:8080/",
          "height": 52
        }
      },
      "source": [
        "import torch\n",
        "from torch.autograd import grad\n",
        "print(\"torch version: \", torch.__version__)\n",
        "device = torch.device(\"cuda\" if torch.cuda.is_available() else \"cpu\")\n",
        "print(device)"
      ],
      "execution_count": 3,
      "outputs": [
        {
          "output_type": "stream",
          "text": [
            "torch version:  1.2.0\n",
            "cuda\n"
          ],
          "name": "stdout"
        }
      ]
    },
    {
      "cell_type": "markdown",
      "metadata": {
        "id": "9FXUJ7zl8SJp",
        "colab_type": "text"
      },
      "source": [
        "##Scenario generator\n",
        "The following block generate the US Diversified equity scenario. It follows the logic from \n",
        "Academy's Interest Rate Generator version 7.1.201805 which is download from [Society of Acturies](https://www.soa.org/resources/tables-calcs-tools/research-scenario/)\n"
      ]
    },
    {
      "cell_type": "code",
      "metadata": {
        "id": "xXZtQeykoVyJ",
        "colab_type": "code",
        "colab": {}
      },
      "source": [
        "import math\n",
        "@torch.jit.script\n",
        "def aaa_us(N:int=10000, T:int=360, sigma_0:float=0.1476, device:str=\"cuda\"):\n",
        "\n",
        "  \"\"\"\n",
        "    return us equity scenario, following the AAA logic\n",
        "    N is scenario number, \n",
        "    T is the number of month\n",
        "    sigma_0 is the initial vol, default to AAA US Diversified Equity\n",
        "    All other parameters below are for US Diversified Equity and\n",
        "    copied from Academy's Interest Rate Generator (AIRG) (Version 7.1.201805)\n",
        "  \"\"\"\n",
        "\n",
        "\n",
        "  tau = 0.12515\n",
        "  phi = 0.35229\n",
        "  sigma_v =0.32645\n",
        "  rho = -0.2488\n",
        "  A = 0.055\n",
        "  B = 0.56\n",
        "  C = -0.9\n",
        "  \n",
        "  sigma_min = 0.0305\n",
        "  sigma_max = 0.3\n",
        "  sigma_max2 = 0.7988\n",
        "\n",
        "\n",
        "  #cholesky decompsition\n",
        "  corr=torch.eye(2,device=device)\n",
        "  corr[0,1]=rho\n",
        "  corr[1,0]=rho\n",
        "  chl=torch.cholesky(corr)\n",
        "\n",
        "  #correlated random number\n",
        "  rdn=torch.randn(N,T,2,1,device=device)\n",
        "  rdn=torch.matmul(chl,rdn)\n",
        "  rdn=rdn.view(N,T,2)\n",
        "\n",
        "  sigma=torch.ones(N,T+1,device=device)\n",
        "  us=torch.ones(N,T+1,device=device)\n",
        "\n",
        "  sigma[:,0]=sigma_0\n",
        "  us[:,0]=1.0\n",
        "\n",
        "  log_tau=math.log(tau)\n",
        "  log_sigma_min=math.log(sigma_min)\n",
        "  log_sigma_max=math.log(sigma_max)\n",
        "  log_sigma_max2=math.log(sigma_max2)\n",
        "\n",
        "  sqrt12=math.sqrt(12.0)\n",
        "  for t in range(T):\n",
        "    log_vol=torch.log(sigma[:,t])\n",
        "    log_vol=(1-phi)*log_vol+phi*log_tau\n",
        "    log_vol=torch.clamp(log_vol,max=log_sigma_max)\n",
        "    log_vol=log_vol+rdn[:,t,0]*sigma_v\n",
        "    log_vol=torch.clamp(log_vol,min=log_sigma_min,max=log_sigma_max2)\n",
        "    sigma[:,t+1]=torch.exp(log_vol)\n",
        "    mean_return=A+B*sigma[:,t+1]+C*sigma[:,t+1]*sigma[:,t+1]\n",
        "    next_return=mean_return/12.0+rdn[:,t,1]*sigma[:,t+1]/sqrt12\n",
        "    us[:,t+1]=us[:,t]*torch.exp(next_return)\n",
        "  return us, sigma"
      ],
      "execution_count": 0,
      "outputs": []
    },
    {
      "cell_type": "code",
      "metadata": {
        "id": "PfyGHShf7EpO",
        "colab_type": "code",
        "outputId": "5ece1628-19c5-4d74-d662-9bfb7e60ded7",
        "colab": {
          "base_uri": "https://localhost:8080/",
          "height": 374
        }
      },
      "source": [
        "us, sigma = aaa_us()\n",
        "log120=torch.log(us[:,120])\n",
        "log360=torch.log(us[:,360])\n",
        "print(\"10 year point from excel \\navg ln=0.732818079,std ln=0.479882024\")\n",
        "print(log120.mean(),log120.std())\n",
        "print(\"30 year point from excel \\navg ln=2.196974867,std ln=0.825873276\")\n",
        "print(log360.mean(),log360.std())\n",
        "\n",
        "import matplotlib.pyplot as plt\n",
        "import numpy as np\n",
        "us=us.to('cpu').numpy()\n",
        "pct2=np.percentile(us,2,axis=0)\n",
        "pct5=np.percentile(us,5,axis=0)\n",
        "t2=torch.linspace(0,30,361).cpu().numpy()\n",
        "rf2=np.exp(.025*t2)\n",
        "plt.plot(t2,rf2,label='riskfree 2.5')\n",
        "plt.plot(t2,pct2,label='2pctile')\n",
        "plt.plot(t2,pct5,label='5pctile')\n",
        "plt.yscale('log')\n",
        "plt.legend()\n",
        "plt.show()\n"
      ],
      "execution_count": 5,
      "outputs": [
        {
          "output_type": "stream",
          "text": [
            "10 year point from excel \n",
            "avg ln=0.732818079,std ln=0.479882024\n",
            "tensor(0.7275, device='cuda:0') tensor(0.4798, device='cuda:0')\n",
            "30 year point from excel \n",
            "avg ln=2.196974867,std ln=0.825873276\n",
            "tensor(2.1809, device='cuda:0') tensor(0.8224, device='cuda:0')\n"
          ],
          "name": "stdout"
        },
        {
          "output_type": "display_data",
          "data": {
            "image/png": "[encoded data removed]",
            "text/plain": [
              "<Figure size 432x288 with 1 Axes>"
            ]
          },
          "metadata": {
            "tags": []
          }
        }
      ]
    },
    {
      "cell_type": "code",
      "metadata": {
        "id": "wibPg5Odl7Rk",
        "colab_type": "code",
        "colab": {}
      },
      "source": [
        "def cashflow_1(scenario):\n",
        "  \"\"\"\n",
        "    cash flow module for a put\n",
        "  \"\"\"\n",
        "  strike = 1.5\n",
        "  payout = torch.clamp(strike-scenario[:,-1],min=0.0)\n",
        "  cf=torch.zeros_like(scenario)\n",
        "  cf[:,-1].add_(payout)\n",
        "  return cf\n"
      ],
      "execution_count": 0,
      "outputs": []
    },
    {
      "cell_type": "code",
      "metadata": {
        "id": "UDDBiZRGSFnp",
        "colab_type": "code",
        "colab": {}
      },
      "source": [
        "K1, K2 = 6, 10\n",
        "N1=2**K1   #batch count\n",
        "N2=2**K2   #batch size\n",
        "\n",
        "T=120\n",
        "rf=0.025\n",
        "\n",
        "idx,sigma=aaa_us(N=N1*N2,T=T)\n",
        "\n",
        "cf=cashflow_1(idx)\n",
        "\n",
        "idx=idx.view(N1,N2,T+1)\n",
        "sigma=sigma.view(N1,N2,T+1)\n",
        "cf=cf.view(N1,N2,T+1)\n",
        "\n",
        "t=torch.linspace(0,T/12,T+1,device=device)\n",
        "disc=torch.exp(-rf*t)\n",
        "disc=disc.repeat(N1,N2,1)\n",
        "\n",
        "pv_payout=cf[:,:,-1]*disc[:,:,-1]\n",
        "\n",
        "#the chg is discounted to time zero already\n",
        "chg=idx[:,:,1:]*disc[:,:,1:]-idx[:,:,:-1]*disc[:,:,:-1]\n",
        "\n",
        "# chg2 is the second order discounted to time zero    \n",
        "chg2=torch.log(idx[:,:,1:]/idx[:,:,:-1])**2-((sigma[:,:,1:])**2)/12\n",
        "chg2=chg2*disc[:,:,1:]"
      ],
      "execution_count": 0,
      "outputs": []
    },
    {
      "cell_type": "code",
      "metadata": {
        "id": "hXsftJhfhySi",
        "colab_type": "code",
        "colab": {}
      },
      "source": [
        "t=torch.linspace(T/12,1/12,T,device=device)  #time to maturity\n",
        "t=t.repeat(N1,N2,1)\n",
        "s=idx[:,:,:-1].view(N1,N2,T,1)\n",
        "s.requires_grad=True\n",
        "v=sigma[:,:,:-1].view(N1,N2,T,1)\n",
        "t=t.view(N1,N2,T,1)\n",
        "tsv=torch.cat((t,s,v),3)"
      ],
      "execution_count": 0,
      "outputs": []
    },
    {
      "cell_type": "code",
      "metadata": {
        "id": "820HhYKgiXD3",
        "colab_type": "code",
        "colab": {}
      },
      "source": [
        "model_delta = torch.nn.Sequential(\n",
        "    torch.nn.Linear(3, 32),\n",
        "    torch.nn.Tanh(),\n",
        "    torch.nn.Linear(32,8),\n",
        "    torch.nn.Tanh(),\n",
        "    torch.nn.Linear(8, 1),\n",
        "    torch.nn.Sigmoid(),\n",
        ")\n",
        "model_delta = model_delta.to(device)"
      ],
      "execution_count": 0,
      "outputs": []
    },
    {
      "cell_type": "code",
      "metadata": {
        "id": "ct2mO3kxidGw",
        "colab_type": "code",
        "outputId": "1749394d-274b-457c-dab9-bac07a33dbbe",
        "colab": {
          "base_uri": "https://localhost:8080/",
          "height": 422
        }
      },
      "source": [
        "import time\n",
        "optimizer = torch.optim.AdamW(model_delta.parameters(),lr=0.02,\n",
        "                              weight_decay=1e-10,amsgrad=True)\n",
        "t1=time.time()\n",
        "for t in range(300):\n",
        "    for i in range(N1):\n",
        "        optimizer.zero_grad()\n",
        "        tsvi=tsv[i]\n",
        "        delta=-model_delta(tsvi)\n",
        "\n",
        "        g = torch.ones_like(delta)\n",
        "        gamma, =grad(delta,tsvi,grad_outputs=g,create_graph=True)   \n",
        "\n",
        "        delta=delta.view(N2,T)\n",
        "        gamma=gamma[:,:,1].view(N2,T)\n",
        "        delta_gl=torch.sum(delta*chg[i],dim=1)\n",
        "        gamma_gl=torch.sum(gamma*chg2[i],dim=1)\n",
        "\n",
        "        hedged_price=pv_payout[i]-delta_gl-gamma_gl\n",
        "      \n",
        "        loss=hedged_price.std()\n",
        "        loss.backward()\n",
        "        optimizer.step()    \n",
        "    if t%10==0: print(t,loss.item())\n",
        "    t2=time.time()\n",
        "    if t2-t1> 120:\n",
        "      print(t2-t1)\n",
        "      break"
      ],
      "execution_count": 10,
      "outputs": [
        {
          "output_type": "stream",
          "text": [
            "0 0.1363428831100464\n",
            "10 0.023816129192709923\n",
            "20 0.023679934442043304\n",
            "30 0.023530444130301476\n",
            "40 0.023531382903456688\n",
            "50 0.024077268317341805\n",
            "60 0.02358551323413849\n",
            "70 0.02378794737160206\n",
            "80 0.024063654243946075\n",
            "90 0.023811424151062965\n",
            "100 0.023693785071372986\n",
            "110 0.023620983585715294\n",
            "120 0.023571420460939407\n",
            "130 0.02354961261153221\n",
            "140 0.023589827120304108\n",
            "150 0.023901361972093582\n",
            "160 0.024307379499077797\n",
            "170 0.02415052428841591\n",
            "180 0.023978164419531822\n",
            "190 0.023782556876540184\n",
            "200 0.023509234189987183\n",
            "210 0.023320991545915604\n",
            "120.23830008506775\n"
          ],
          "name": "stdout"
        }
      ]
    },
    {
      "cell_type": "code",
      "metadata": {
        "id": "ykEJ58mHmOJ2",
        "colab_type": "code",
        "colab": {}
      },
      "source": [
        "import scipy.stats as si\n",
        "def call_bs(S, K, r, q, T, sigma):\n",
        "#    standard black scholes formula for call\n",
        "    d1 = (np.log(S / K) + (r - q + 0.5 * sigma ** 2) * T) / \\\n",
        "            (sigma * np.sqrt(T))\n",
        "    d2 = (np.log(S / K) + (r - q - 0.5 * sigma ** 2) * T) / \\\n",
        "            (sigma * np.sqrt(T))\n",
        "    call = (S * np.exp(-q * T) * si.norm.cdf(d1, 0.0, 1.0) - \\\n",
        "            K * np.exp(-r * T) * si.norm.cdf(d2, 0.0, 1.0))\n",
        "    return call\n",
        "  \n",
        "def delta_bs(S, K, r, q, T, sigma):\n",
        "#    standard black scholes delta formula for call\n",
        "    d1 = (np.log(S / K) + (r - q + 0.5 * sigma ** 2) * T) / \\\n",
        "            (sigma * np.sqrt(T))\n",
        "    delta =  np.exp(-q * T) * si.norm.cdf(d1, 0.0, 1.0)        \n",
        "    return delta"
      ],
      "execution_count": 0,
      "outputs": []
    },
    {
      "cell_type": "code",
      "metadata": {
        "id": "98sJ7HpBqOD4",
        "colab_type": "code",
        "outputId": "98add5a1-89d9-4b52-fa57-6b079d48e1a1",
        "colab": {
          "base_uri": "https://localhost:8080/",
          "height": 336
        }
      },
      "source": [
        "import matplotlib.pyplot as plt\n",
        "import numpy as np\n",
        "\n",
        "vol=torch.log(idx[:,:,-1]).std().cpu().item()\n",
        "vol=vol/math.sqrt(10) \n",
        "#this is the effective volatility of the scenario at year 10\n",
        "\n",
        "plt.clf()\n",
        "plt.cla()\n",
        "plt.close()\n",
        "plt.figure(figsize=(8,5))\n",
        "plt.grid(True)\n",
        "\n",
        "tl=[1,5.0,10.0]\n",
        "for t in tl:\n",
        "  s=torch.linspace(0.1,4,200,device=device)\n",
        "  tsvc=torch.zeros((200,3),device=device)\n",
        "  tsvc[:,0]=t\n",
        "  tsvc[:,1]=s\n",
        "  tsvc[:,2]= 0.1476\n",
        "  d_bs=delta_bs(s.cpu().numpy(),1.5,rf,0,t,vol)-1\n",
        "  d_nn=-model_delta(tsvc)\n",
        "  plt.plot(s.cpu().numpy(),d_bs,label=\"bs t=\"+ \"%.1f\" % t)\n",
        "  plt.plot(s.cpu().numpy(),d_nn.cpu().view(200).detach().numpy(),\n",
        "           label=\"nn t=\"+ \"%.1f\" % t)\n",
        "\n",
        "\n",
        "\n",
        "plt.title(\"delta chart\")\n",
        "plt.legend()\n",
        "#plt.savefig(\"test.svg\")\n",
        "plt.show()"
      ],
      "execution_count": 12,
      "outputs": [
        {
          "output_type": "display_data",
          "data": {
            "image/png": "[encoded data removed]",
            "text/plain": [
              "<Figure size 576x360 with 1 Axes>"
            ]
          },
          "metadata": {
            "tags": []
          }
        }
      ]
    },
    {
      "cell_type": "code",
      "metadata": {
        "id": "NqWfeyEpf_kZ",
        "colab_type": "code",
        "colab": {}
      },
      "source": [
        "def cte98(e):\n",
        "  n=e.size()[0]\n",
        "  k=math.ceil(n*0.02)\n",
        "  l2=e.topk(k,sorted=False).values.mean()\n",
        "  return l2"
      ],
      "execution_count": 0,
      "outputs": []
    },
    {
      "cell_type": "code",
      "metadata": {
        "id": "wjVP1GTZ6AiJ",
        "colab_type": "code",
        "outputId": "12761567-4a83-449a-d883-3542c6e83bca",
        "colab": {
          "base_uri": "https://localhost:8080/",
          "height": 246
        }
      },
      "source": [
        "delta=model_delta(tsv)\n",
        "delta=-delta.view(N1,N2,T)\n",
        "\n",
        "g = torch.ones_like(delta)\n",
        "gamma, =grad(delta,tsv,grad_outputs=g,create_graph=True)      \n",
        "\n",
        "gamma=gamma[:,:,:,1].view(N1,N2,T)\n",
        "delta_gl=torch.sum(delta*chg,dim=2)\n",
        "gamma_gl=torch.sum(gamma*chg2,dim=2)\n",
        "\n",
        "pre_hedge=pv_payout.std().item()\n",
        "post_hedge=(delta_gl+gamma_gl-pv_payout).std().item()\n",
        "\n",
        "print(\"\\n% scenario with payout: \",pv_payout.sign().mean().item())\n",
        "\n",
        "print(\"\\nstd pv payout, after hedge, effectiveness\")\n",
        "print(\"{:.2%}\".format(pre_hedge), \"{:.2%}\".format(post_hedge), \\\n",
        "      \"{:.2%}\".format(1-post_hedge/pre_hedge))\n",
        "\n",
        "print(\"\\nAverage, before and after hedge:\")\n",
        "print(pv_payout.mean().item())\n",
        "print((pv_payout-gamma_gl-delta_gl).mean().item())\n",
        "\n",
        "print(\"\\nCTE 98, before and after hedge:\")\n",
        "print(cte98(pv_payout).item())\n",
        "print(cte98(pv_payout-gamma_gl-delta_gl).item())"
      ],
      "execution_count": 14,
      "outputs": [
        {
          "output_type": "stream",
          "text": [
            "\n",
            "% scenario with payout:  0.2426910400390625\n",
            "\n",
            "std pv payout, after hedge, effectiveness\n",
            "15.33% 2.52% 83.54%\n",
            "\n",
            "Average, before and after hedge:\n",
            "0.06735669076442719\n",
            "0.30584433674812317\n",
            "\n",
            "CTE 98, before and after hedge:\n",
            "0.8389779925346375\n",
            "0.4135546088218689\n"
          ],
          "name": "stdout"
        }
      ]
    },
    {
      "cell_type": "markdown",
      "metadata": {
        "id": "dFzY9TIBmk0p",
        "colab_type": "text"
      },
      "source": [
        "### generate validation set and calculate hedge effectiveness"
      ]
    },
    {
      "cell_type": "code",
      "metadata": {
        "colab_type": "code",
        "id": "pJ1_QUPXfdyx",
        "colab": {}
      },
      "source": [
        "cte_delta = torch.nn.Sequential(\n",
        "    torch.nn.Linear(3, 32),\n",
        "    torch.nn.Tanh(),\n",
        "    torch.nn.Linear(32,8),\n",
        "    torch.nn.Tanh(),\n",
        "    torch.nn.Linear(8, 1),\n",
        "    torch.nn.Sigmoid(),\n",
        ")\n",
        "cte_delta = cte_delta.to(device)"
      ],
      "execution_count": 0,
      "outputs": []
    },
    {
      "cell_type": "code",
      "metadata": {
        "id": "nyMoDbmGfqKU",
        "colab_type": "code",
        "outputId": "6bc9bf40-7018-4716-f9e8-fc9762ad937c",
        "colab": {
          "base_uri": "https://localhost:8080/",
          "height": 439
        }
      },
      "source": [
        "import time\n",
        "optimizer = torch.optim.AdamW(cte_delta.parameters(),lr=0.02,\n",
        "                              weight_decay=1e-10,amsgrad=True)\n",
        "t1=time.time()\n",
        "for t in range(300):\n",
        "    for i in range(N1):\n",
        "        optimizer.zero_grad()\n",
        "        tsvi=tsv[i]\n",
        "        delta=-cte_delta(tsvi)\n",
        "\n",
        "        g = torch.ones_like(delta)\n",
        "        gamma, =grad(delta,tsvi,grad_outputs=g,create_graph=True)   \n",
        "\n",
        "        delta=delta.view(N2,T)\n",
        "        gamma=gamma[:,:,1].view(N2,T)\n",
        "        delta_gl=torch.sum(delta*chg[i],dim=1)\n",
        "        gamma_gl=torch.sum(gamma*chg2[i],dim=1)\n",
        "\n",
        "        hedged_price=pv_payout[i]-delta_gl-gamma_gl\n",
        "      \n",
        "        loss=cte98(hedged_price)\n",
        "        loss.backward()\n",
        "        optimizer.step()    \n",
        "    if t%10==0: print(t,loss.item())\n",
        "    t2=time.time()\n",
        "    if t2-t1> 120:\n",
        "      print(t2-t1)\n",
        "      break"
      ],
      "execution_count": 16,
      "outputs": [
        {
          "output_type": "stream",
          "text": [
            "0 0.6786390542984009\n",
            "10 0.36448538303375244\n",
            "20 0.36073142290115356\n",
            "30 0.3618268668651581\n",
            "40 0.35848209261894226\n",
            "50 0.36151912808418274\n",
            "60 0.3700169622898102\n",
            "70 0.3611067831516266\n",
            "80 0.3592791259288788\n",
            "90 0.3616853356361389\n",
            "100 0.3589134216308594\n",
            "110 0.3616979420185089\n",
            "120 0.3597683906555176\n",
            "130 0.3589226007461548\n",
            "140 0.3579618036746979\n",
            "150 0.36181554198265076\n",
            "160 0.35684171319007874\n",
            "170 0.35769426822662354\n",
            "180 0.3584533631801605\n",
            "190 0.35829615592956543\n",
            "200 0.3585861027240753\n",
            "210 0.3618758022785187\n",
            "220 0.36038312315940857\n",
            "120.50959372520447\n"
          ],
          "name": "stdout"
        }
      ]
    },
    {
      "cell_type": "code",
      "metadata": {
        "colab_type": "code",
        "outputId": "bfa236d8-7d05-453e-9584-824f70705698",
        "id": "xi9fEkWJk233",
        "colab": {
          "base_uri": "https://localhost:8080/",
          "height": 336
        }
      },
      "source": [
        "import matplotlib.pyplot as plt\n",
        "import numpy as np\n",
        "\n",
        "vol=torch.log(idx[:,:,-1]).std().cpu().item()\n",
        "vol=vol/math.sqrt(10) \n",
        "#this is the effective volatility of the scenario at year 10\n",
        "\n",
        "plt.clf()\n",
        "plt.cla()\n",
        "plt.close()\n",
        "plt.figure(figsize=(8,5))\n",
        "plt.grid(True)\n",
        "\n",
        "tl=[1,5.0,10.0]\n",
        "for t in tl:\n",
        "  s=torch.linspace(0.1,4,200,device=device)\n",
        "  tsvc=torch.zeros((200,3),device=device)\n",
        "  tsvc[:,0]=t\n",
        "  tsvc[:,1]=s\n",
        "  tsvc[:,2]= 0.1476\n",
        "  d_cte=-cte_delta(tsvc)\n",
        "  d_nn=-model_delta(tsvc)\n",
        "\n",
        "  plt.plot(s.cpu().numpy(),d_nn.cpu().view(200).detach().numpy(),\n",
        "           label=\"std t=\"+ \"%.1f\" % t)\n",
        "\n",
        "  plt.plot(s.cpu().numpy(),d_cte.cpu().view(200).detach().numpy(),\n",
        "           label=\"cte t=\"+ \"%.1f\" % t)\n",
        "\n",
        "\n",
        "plt.title(\"delta chart, std target vs cte target\")\n",
        "plt.legend()\n",
        "#plt.savefig(\"test.svg\")\n",
        "plt.show()"
      ],
      "execution_count": 17,
      "outputs": [
        {
          "output_type": "display_data",
          "data": {
            "image/png": "[encoded data removed]",
            "text/plain": [
              "<Figure size 576x360 with 1 Axes>"
            ]
          },
          "metadata": {
            "tags": []
          }
        }
      ]
    },
    {
      "cell_type": "code",
      "metadata": {
        "colab_type": "code",
        "outputId": "e34ec393-0cc5-472d-b98a-14b559700847",
        "id": "2SORbZG_0Lzm",
        "colab": {
          "base_uri": "https://localhost:8080/",
          "height": 246
        }
      },
      "source": [
        "delta=cte_delta(tsv)\n",
        "delta=-delta.view(N1,N2,T)\n",
        "\n",
        "g = torch.ones_like(delta)\n",
        "gamma, =grad(delta,tsv,grad_outputs=g,create_graph=True)      \n",
        "\n",
        "gamma=gamma[:,:,:,1].view(N1,N2,T)\n",
        "delta_gl=torch.sum(delta*chg,dim=2)\n",
        "gamma_gl=torch.sum(gamma*chg2,dim=2)\n",
        "\n",
        "pre_hedge=pv_payout.std().item()\n",
        "post_hedge=(delta_gl+gamma_gl-pv_payout).std().item()\n",
        "\n",
        "print(\"\\n% scenario with payout: \",pv_payout.sign().mean().item())\n",
        "\n",
        "print(\"\\nstd pv payout, after hedge, effectiveness\")\n",
        "print(\"{:.2%}\".format(pre_hedge), \"{:.2%}\".format(post_hedge), \\\n",
        "      \"{:.2%}\".format(1-post_hedge/pre_hedge))\n",
        "\n",
        "print(\"\\nAverage, before and after hedge:\")\n",
        "print(pv_payout.mean().item())\n",
        "print((pv_payout-gamma_gl-delta_gl).mean().item())\n",
        "\n",
        "print(\"\\nCTE 98, before and after hedge:\")\n",
        "print(cte98(pv_payout).item())\n",
        "print(cte98(pv_payout-gamma_gl-delta_gl).item())"
      ],
      "execution_count": 18,
      "outputs": [
        {
          "output_type": "stream",
          "text": [
            "\n",
            "% scenario with payout:  0.2426910400390625\n",
            "\n",
            "std pv payout, after hedge, effectiveness\n",
            "15.33% 2.97% 80.60%\n",
            "\n",
            "Average, before and after hedge:\n",
            "0.06735669076442719\n",
            "0.27936217188835144\n",
            "\n",
            "CTE 98, before and after hedge:\n",
            "0.8389779925346375\n",
            "0.3791602849960327\n"
          ],
          "name": "stdout"
        }
      ]
    }
  ]
}